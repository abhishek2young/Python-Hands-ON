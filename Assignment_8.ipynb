{
 "cells": [
  {
   "cell_type": "markdown",
   "metadata": {},
   "source": [
    "# 1. What is Object Oriented Programming?"
   ]
  },
  {
   "cell_type": "markdown",
   "metadata": {},
   "source": [
    "1. Object Oriented Programming refers to the languages that uses object as a primary source to implement what is to happen in that code.\n",
    "2. It aims to implement real world entities like Inheritance , Polymorphism , Encapsulation in the programming.\n",
    "3. The main aim of the oops concept is to bind together data and the functions that operate on these concepts together as a single unit so that no other part of the code can access this data.\n"
   ]
  },
  {
   "cell_type": "markdown",
   "metadata": {},
   "source": [
    "# 2. Difference between Procedural programming and OOPs?"
   ]
  },
  {
   "cell_type": "markdown",
   "metadata": {},
   "source": [
    "> Procedural programming\n",
    "1. In Procedural programming , the program is divided into small pats called as functions.\n",
    "2. Procedural programming follows a top down approach.\n",
    "3. There is no access specifier in Procedural programming.\n",
    "4. Adding new data and functions is not easy.\n",
    "5. Procedural programming doesnot have any proper way of hiding the data so it is less secure.\n",
    "6. In Procedural programming , there is no concept of data hiding and inheritance.\n",
    "7. In Procedural programming the function is more important than the data.\n",
    "8. Procedural programming is based on the Unreal world.\n",
    "9. Procedural programming is used for designing medium seized programs.\n",
    "10. Procedural programming uses the concept of procedure abstraction.\n",
    "11. Code reusability is absent in Procedural programming.\n",
    "12. Examples : c , FORTRAN , Pascal , Basic , etc \n",
    "* \n",
    "> Object-Oriented Programming \n",
    "1. In Object-Oriented Programming , the program is divided into small parts called objects.\n",
    "2. Object-Oriented Programming follows a bottom up approach.\n",
    "3. Object-Oriented Programming has access specifiers like private,public,etc.\n",
    "4. Adding new data and function is easy.\n",
    "5. Object-Oriented Programming provides data hiding and so it is more secure.\n",
    "6. In Object-Oriented Programming the concept of data hiding and inheritance is used.\n",
    "7. In Object-Oriented Programming data is more important than function.\n",
    "8. Object-Oriented Programming is based on the real world.\n",
    "9. Object-Oriented Programming is used for designing large and complex programs.\n",
    "10. Object-Oriented Programming uses the concept of data abstraction.\n",
    "11. Code reusability is present in Object-Oriented Programming.\n",
    "12. Examples : C++ , Java , Python\n"
   ]
  },
  {
   "cell_type": "markdown",
   "metadata": {},
   "source": [
    "# 3. What are the fundamental principle/features of Object-Oriented Programming ?"
   ]
  },
  {
   "cell_type": "markdown",
   "metadata": {},
   "source": [
    "> There are 4 fundamental features of Object-Oriented Programming\n",
    "1. Inheritance\n",
    "2. Encapsulation\n",
    "3. Polymorphism\n",
    "4. Data abstraction"
   ]
  },
  {
   "cell_type": "markdown",
   "metadata": {},
   "source": [
    "# 4. What is an object?"
   ]
  },
  {
   "cell_type": "markdown",
   "metadata": {},
   "source": [
    "> Object \n",
    "1. It is a basic unit of an OOP and represents the real world entity.\n",
    "2. An object is a instance of the class and possesses the property/behaviour of its class.\n",
    "3. Each object contains data and code to manipulate the data.\n",
    "4. Objetcs can interact without having to know the details of each others data and code , it is sufficient to know the type of message accepted and type of response returned by the objects.\n"
   ]
  },
  {
   "cell_type": "markdown",
   "metadata": {},
   "source": [
    "# 5. What is a class?"
   ]
  },
  {
   "cell_type": "markdown",
   "metadata": {},
   "source": [
    "> Class \n",
    "1. A class is a userdefined data type and it is a blueprint of an object or prototype from which objects are created.\n",
    "2. It consists of data members(class variables and instance variables) and member functions(methods) which can be accessed and used by creating an instance of that class.\n",
    "3. It represents the set of properties or methods that are common to all the objects of one type.\n",
    "4. class keyword is used to define a class considering the Pascal case."
   ]
  },
  {
   "cell_type": "markdown",
   "metadata": {},
   "source": [
    "# 6. What is the difference between a class and an object?"
   ]
  },
  {
   "cell_type": "markdown",
   "metadata": {},
   "source": [
    "> class \n",
    "1. It is a detailed description , the definition and the template of what an object will be , but it is not the object itself.\n",
    "2. It is a blueprint of an object and the building block that leads to Object oriented programming.\n",
    "3. It is a user defined data type , that holds its own data members and member functions , which can be accessed and used by creating an instance of that class.\n",
    "4. Once we have written a class and defined it , we can use it to create as many objects based on that class we want.\n",
    "> Object\n",
    "1. It is an instance of a class and possesses the properties and behaviours of its class.\n",
    "2. An object is simply a collection of data(variables) and methods(functions) that act on the data.\n",
    "3. When a class is defined no memory is allocated but memory is allocated when it is instantiated(an object is created)\n"
   ]
  },
  {
   "cell_type": "markdown",
   "metadata": {},
   "source": [
    "# 7. Can you call the base class method without creating an instance?"
   ]
  },
  {
   "cell_type": "markdown",
   "metadata": {},
   "source": [
    "1. Static method can be called without creating an object or instance.\n",
    "2. Base class can be called without instantiating it if : \n",
    "* It is a static method\n",
    "* The base class is inherited by some other subclass"
   ]
  },
  {
   "cell_type": "markdown",
   "metadata": {},
   "source": [
    "# 8. What is inheritance?"
   ]
  },
  {
   "cell_type": "markdown",
   "metadata": {},
   "source": [
    "> Inheritance\n",
    "1. One of the core concept of the OOPs language is inheritance.\n",
    "2. It is a mechanism that allows to create a hierarchy of classes that shares a set of properties/methods by deriving a class(Derived/Child) from another Base class(Base/Parent)\n",
    "3. It allows to inherits the properties/methods of a class i.e Base class to another Derived class.\n",
    "4. It represents real world relationships as well.\n",
    "5. It provides a reusablity of a code and allows to add more features to a class without modifying it.\n",
    "6. It offers a simple , understandable model structure.\n",
    "7. It is transitive in nature and code can be written in structured way."
   ]
  },
  {
   "cell_type": "markdown",
   "metadata": {},
   "source": [
    "# 9. What are the different types of inheritance?"
   ]
  },
  {
   "cell_type": "markdown",
   "metadata": {},
   "source": [
    "* There are mainly 5 types of inheritances\n",
    "1. Single inheritance\n",
    "* When a derived class inherits from only one base class it is called as a single inheritance.\n",
    "2. Multilevel inheritance\n",
    "* When a derived class inherits from a base class that is already inherited from another class it is called as a multilevel inheritance.\n",
    "3. Multiple inheritance\n",
    "* When a derived class inherits from multiple base classes it is called as Multiple inheritance.\n",
    "4. Hierarchical inheritance\n",
    "* When multiple derived classes inherits from only one base class it is called as Hierarchical inheritance.\n",
    "5. Hybrid inheritance\n",
    "* This form combines more than one form of inheritance or a mixture of more than 1 type of inheritance it is called as Hybrid inheritance."
   ]
  },
  {
   "cell_type": "markdown",
   "metadata": {},
   "source": [
    "# 10. What is the difference between multiple inheritance and multilevel inheritance?\n"
   ]
  },
  {
   "cell_type": "markdown",
   "metadata": {},
   "source": [
    "> Multilevel inheritance\n",
    "1. When a derived class inherits from a base class that has already inherited from another class it is called as Multilevel inheritance.\n",
    "2. We can use super() function to give access to attributes of base class to the derived class.\n",
    "> Multiple inheritance\n",
    "1. When a derived class inherits from multiple base classes it is called as Multiple inheritance.\n",
    "2. We cannot use super() function to give access to attributes of base class to the derived class.\n"
   ]
  },
  {
   "cell_type": "markdown",
   "metadata": {},
   "source": [
    "# 11. What are the limitations of inheritance?"
   ]
  },
  {
   "cell_type": "markdown",
   "metadata": {},
   "source": [
    "1. It decreases the execution speed as it requires loading multiple classes because they are interdependent on each other.\n",
    "2. It has tightly coupled classes which means that even though parent class can be executed independently child classes cannot be executed without defining their parent class.\n",
    "3. Improper use of inheritance may lead to the wrong solutions.\n",
    "4. Often data members in the base class may left unused that may lead to memory wastage.\n",
    "5. A change in base class will affect all child classes."
   ]
  },
  {
   "cell_type": "markdown",
   "metadata": {},
   "source": [
    "# 12. What are Super class and subclass?"
   ]
  },
  {
   "cell_type": "markdown",
   "metadata": {},
   "source": [
    "> Super class\n",
    "* The class from which a class inherits is called as the Super class.(Parent class , Base class)\n",
    "> Sub class\n",
    "* A class which inherits from another class is called as the Subclass.(Child class , Derived class)\n"
   ]
  },
  {
   "cell_type": "markdown",
   "metadata": {},
   "source": [
    "# 13. What is Super Keyword?"
   ]
  },
  {
   "cell_type": "markdown",
   "metadata": {},
   "source": [
    "1. Super keyword represents super() function.\n",
    "2. The super() function is used to give access to methods and properties of the base class to the derived class and also to access the base class constructor in the derived class.\n",
    "3. The super() function returns an object that represents the base class."
   ]
  },
  {
   "cell_type": "markdown",
   "metadata": {},
   "source": [
    "# 14. What is Encapsulation?"
   ]
  },
  {
   "cell_type": "markdown",
   "metadata": {},
   "source": [
    "1. Encapsulation is one of the fundamental concepts in Object Oriented Programming(OOP).\n",
    "2. It describes the idea of wrapping data and the methods that work on data within one unit.\n",
    "3. This putts restrictions on accessing variables and methods directly and methods directly and can prevent the accidental modification of the data.\n",
    "4. We can not access the class or instance variables and methods outside the class using this concept.\n",
    "5. Double Underscore \"__\" is used in encapsulation to put restrictions on accessing the public attributes of a class by making them private attributes."
   ]
  },
  {
   "cell_type": "markdown",
   "metadata": {},
   "source": [
    "# 15. What is Mangling and how does it work?"
   ]
  },
  {
   "cell_type": "markdown",
   "metadata": {},
   "source": [
    "1. It is used to access or modify the private variables and private methods of a class which we have encapsulated.\n",
    "2. We can access these private attributes of a class outside the class and can modify them as per the requirements.\n",
    "* These identifiers maybe private variables (class or instance) which we can access and modify or it maybe private class methods that we can only access outside the class."
   ]
  },
  {
   "cell_type": "markdown",
   "metadata": {},
   "source": [
    "# 16. What is the difference between public and private access modifiers?"
   ]
  },
  {
   "cell_type": "markdown",
   "metadata": {},
   "source": [
    "> Public access modifiers\n",
    "1. This modifier is applicable for both top level classes and interfaces.\n",
    "2. Public members can be accessed from the child class of the same package.\n",
    "3. Public members can be accessed from non-child classes of the same package.\n",
    "4. Public members can be accessed from child class of outside the package.\n",
    "5. Public members can be accessed from Non child class of outside the package.\n",
    "6. Public modifier is the most accessible modifier.\n",
    "7. Public modifier is the recommended modifier for method.\n",
    "> Private access modifiers \n",
    "1. This modifier is not applicable for both top level classes and interfaces.\n",
    "2. Private members cannot be accessed from the child class of the same package.\n",
    "3. Private members cannot be accessed from the Non child class of the same package.\n",
    "4. Private members cannot be accessed from child class of outside the package.\n",
    "5. Private members cannot be accessed from Non child class of outside the package.\n",
    "6. Private modifier is the most restricted modifier.\n",
    "7. Private modifier is the recommended modifier for data members."
   ]
  },
  {
   "cell_type": "markdown",
   "metadata": {},
   "source": [
    "# 17. Is python 100 percent Object oriented?"
   ]
  },
  {
   "cell_type": "markdown",
   "metadata": {},
   "source": [
    "* Python is not 100% Object oriented programming language as it doesnot support a strong Encapsulation."
   ]
  },
  {
   "cell_type": "markdown",
   "metadata": {},
   "source": [
    "# 18. What is data abstraction?"
   ]
  },
  {
   "cell_type": "markdown",
   "metadata": {},
   "source": [
    "1. This is one of the core concepts of Object Oriented Programming languages.\n",
    "2. Abstraction is a process of handling complexity by hiding unnecessary information from the user.\n",
    "3. It is used to hide the internal functionality of your project.\n",
    "4. Also , there are times when we donot want to give out sensitive parts of our code implementation and this is where data abstraction can also prove to be very functional."
   ]
  },
  {
   "cell_type": "markdown",
   "metadata": {},
   "source": [
    "# 19. How to achieve Data abstraction?"
   ]
  },
  {
   "cell_type": "markdown",
   "metadata": {},
   "source": [
    "1. In order to achieve Data abstraction we need to import ABC (Abstarction Base class) and abstractmethod from the python abc module or library.\n",
    "2. A class which contains one or more abstract methods in it are called as an \"Abstract class\"\n",
    "3. An abstract method is defined using @abstractmethod keyword on the top of the class method.\n",
    "4. An abstract method is a method that has only declaration but not have its implementation in Abstract class.\n",
    "5. After that we need to create the abstract class and inheriting them later in the derived class."
   ]
  },
  {
   "cell_type": "markdown",
   "metadata": {},
   "source": [
    "# 20. What is an Abstract class?"
   ]
  },
  {
   "cell_type": "markdown",
   "metadata": {},
   "source": [
    "1. An abstract class can be consirded as a blueprint for other classes or blueprint of your project.\n",
    "2. It allows you to create a set of methods that must be created within any child classes built from the abstract class.\n",
    "3. A class which contains one or more abstract methods is called as an \"Abstract class\"\n",
    "4. An abstract method is a method that has a declaration but doesnot have implementation.\n",
    "5. When we want to provide a common interface for different implementations of a component we use an abstract class."
   ]
  },
  {
   "cell_type": "markdown",
   "metadata": {},
   "source": [
    "# 21. Can you create an object of an abstract class?"
   ]
  },
  {
   "cell_type": "markdown",
   "metadata": {},
   "source": [
    "1. An abstract class is a class but we cannot create an object of an abstract class directly.\n",
    "2. Its purpose is to define how others classes should look like i.e what methods or properties they are expected to have.\n",
    "3. To implement features of an abstract class , we inherit subclasses from it and a subclass must overide all abstarct methods of an abstract class."
   ]
  },
  {
   "cell_type": "markdown",
   "metadata": {},
   "source": [
    "# 22. Differentiate between data abstraction and encapsulation"
   ]
  },
  {
   "cell_type": "markdown",
   "metadata": {},
   "source": [
    "1. Abstarction is the method of hiding the unwanted information , whereas encapsulation is the method to hide the data in a single entity or unit along with a method to protect information from outside.\n",
    "2. We can implement abstarction using abstract methods class and interfaces , whereas encapsulation can be implemented using modifier i.e private and public.\n",
    "3. In abstraction , implementation complixities are hidden using abstract classes and interfaces while in encapsulation the data is hidden using methods of getters and setters.\n",
    "4. Abstarction provides access specific part of data ,Encapsulation hides data and the user cannot access same directly.\n",
    "5. The objects that help to perform abstraction are encapsulated , whereas the object to be encapsulated need to be abstracted.\n",
    "6. Abstarction focus is on \"what\" should be done , encapsulation focus is on \"How\" it shoud be done."
   ]
  },
  {
   "cell_type": "markdown",
   "metadata": {},
   "source": [
    "# 23. What is Polymorphism?"
   ]
  },
  {
   "cell_type": "markdown",
   "metadata": {},
   "source": [
    "1. The word \"polymorphism\" means having many forms.\n",
    "2. In programming polymorphism means the same function name (but different signatures) being used for different types.\n",
    "3. It allows us to define methods in the child classe with the same name as defined in the parent class.\n",
    "4. The only key difference is the datatype and the number of arguments used in the function.\n",
    "5. Eg : Built in functions : len() , sorted() , min() , max() , sum() etc"
   ]
  },
  {
   "cell_type": "markdown",
   "metadata": {},
   "source": [
    "# 24. What is the overloading method?"
   ]
  },
  {
   "cell_type": "markdown",
   "metadata": {},
   "source": [
    "1. Method Overloading is one concept in Polymorphism which is used in single class only.\n",
    "2. In Method Overloading we can have 2 or more methods(functions) that have the same name but the arguments they take as input values are different.\n",
    "3. Arguments difference will be based on the number of arguments and type of arguments."
   ]
  },
  {
   "cell_type": "markdown",
   "metadata": {},
   "source": [
    "# 25. What are the limitations of OOPs?"
   ]
  },
  {
   "cell_type": "markdown",
   "metadata": {},
   "source": [
    "1. The length of the programmes developed using OOPs language is much larger than the procedural approach.\n",
    "2. Since the programme becomes larger in size it requires more time to be executed that lead to slower execution of the programmes.\n",
    "3. We cannot apply OOPs everywhere as it is not a universal language.It is applied when only it is required.It is not suitable for all types of problems.\n",
    "4. Programmers need to have brilliant designing skills and programming skills along with proper planning because using OOPs is little bit tricky.\n",
    "5. OOPs tajke time to get used to it.The thought process involved in Object Oriented Programming may not be natural for some people.\n",
    "6. Everything is treated as object in OOPs so before applying it we need to have excellent thinking in terms of Objects."
   ]
  },
  {
   "cell_type": "markdown",
   "metadata": {},
   "source": []
  }
 ],
 "metadata": {
  "kernelspec": {
   "display_name": "Python 3",
   "language": "python",
   "name": "python3"
  },
  "language_info": {
   "name": "python",
   "version": "3.11.3"
  }
 },
 "nbformat": 4,
 "nbformat_minor": 2
}
