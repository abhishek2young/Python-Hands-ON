{
 "cells": [
  {
   "cell_type": "markdown",
   "metadata": {},
   "source": [
    "# What are the key features of Python?"
   ]
  },
  {
   "cell_type": "markdown",
   "metadata": {},
   "source": [
    "* Python is a versatile and popular programming language known for its simplicity and readability.Here are some of the key features of Python >\n",
    "1. Easy to read Syntax : Python uses a clean and easily readable syntax , which makes it begineer friendly and reduces the cost of program maintenance.\n",
    "2. Dynamically typed : Python is dynamically typed , meaning you dont need to declare variables explicitly.Variables can hold values of any types , and their types can change during runtime.\n",
    "3. Interpreted language : Python is a interpreted language , which means that the code is executed line by line at runtime.This allows for faster development cycles and easier debugging.\n",
    "4. Large standard library : Python comes with a comprehensive standard library that provides a wide range of modules and functions for various tasks file I/O , network communication , web development and more.This extensive library reduces the need of external dependencies and facilitates rapid development.\n",
    "5. Cross platform Compatibility : Python is a cross platform language which means that python can run on different operating systems , such as Windows and Linux systems without requiring to change the code.\n",
    "6. Object Oriented Programming(OOP Support) : Python support object oriented programming principles , allowing developers to define classes and create objects with encapsulated data and methods.This feature promotes code reusablity and modular design.\n",
    "7. Extensiblity and intergration : Python can easily integrate with other languages such as C , C++ , Java.This enables developers to leverage existing libraries and components written in other languages, making python a powerful programming language for integration tasks.\n",
    "8. Third party libraries : Python has a vast ecosystem of third party libraries and frameworks such as pandas , numpy , flask ,Django , tensorflow , and many more. These libraries extend the capabilities of Python and enable developers to tackle complex tasks efficiently.\n",
    "9. Rapid prototyping : Pythons simplicity and easy to use makes it best choice for rapid prototyping.It allows developers to test their ideas and concepts quickly before investing time and effort in implementation.\n",
    "10. Community and support : Python has a large and active community of developers who contribute to its development ,create libraries and provide support through forums , online communities and extensive documentation.This Vibrant community ensures that python remains up to date and well supported.\n",
    "* These key features have contributed to pythons popularity and made it a preferable language for a wide range of applications including web development , data analysis , scientific computing ,artificial intelligence and more.\n"
   ]
  },
  {
   "cell_type": "markdown",
   "metadata": {},
   "source": [
    "# What Python supports several built-in data types?"
   ]
  },
  {
   "cell_type": "markdown",
   "metadata": {},
   "source": [
    "* Python supports several built-in data types that allow you to store and manipulate different data types.Here are some of the most common data types that Python supports.\n",
    "1. Numeric data types : \n",
    "> int : Represents integer values e.g : 5 , -10 , 100\n",
    "> float : Represents floating point values (Real numbers with decimal points) e.g: 3.14 , -0.5 , 2.0\n",
    "2. String \n",
    "> str : Represents a sequence of characters enclosed in single quotes or double quotes or triple quotes e.g \"Hi there\"\n",
    "3. Boolean data types : \n",
    "> bool : Represents boolean values  , either true or false.Used for logical operations and control flow.\n",
    "4. Sequence data types : \n",
    "> list : Represents an ordered collection of elements.Mutable(Modifiable) and denoted by square brackets[].\n",
    "> tuple : Represents an ordered collection of elements.Immutable(cannot be modified once created) and denoted by parantheses().\n",
    "> range : Represents a sequence of numbers with a specified start , end and step size.Used in iterations.\n",
    "5. Mapping type :\n",
    "> dict : Represents a collection of key and value pairs.Mutable and denoted by curly brackets {} . With key value pairs seperated by colons :\n",
    "6. Set types : \n",
    "> set : Represents an unordered collection of unique values.Mutable and denoted by curly brackets {}.\n",
    "> frozenset : Represents an immutable set.Similar to set but its elements cannot be modified once created.\n",
    "7. None type : \n",
    "> None : Represents a absence of value or null value.\n",
    "\n",
    "* These are fundamental data types in Python.Additionally Python allows you to define your own custom datatypes using classes, which is a part of Object oriented programming in Python.\n"
   ]
  },
  {
   "cell_type": "markdown",
   "metadata": {},
   "source": [
    "# What are local variables and global variables in Python?"
   ]
  },
  {
   "cell_type": "markdown",
   "metadata": {},
   "source": [
    "1. Local variables : \n",
    "* Local variables are declared and defined within a specific function or block of code.\n",
    "* They are only accessible within function or block in which they are defined.\n",
    "* Local variables have a limited scope and are created when the function or block is executed, and they cease to exist once the function or block is completed.\n",
    "* Local variables can have the same name as the global variable or variables in other functions without causing conflicts since they are distinct entities.\n",
    "2. Global variables :  \n",
    "* Global variables are declared outside of a function or block of code usually at the top level of a modeule or script.\n",
    "* They have a global scope meaning they can be accessed from any part of the code,including inside functions.\n",
    "* Global variables remain in memory throughout the execution of the program and retian their values unless modified.\n",
    "* When modifying a global variable inside a function , you need to use the \"global\" keyword to indicate that you want to reference the global variable rathe than create a new local variable with the same name.\n",
    "* We should name the global variables and local names different to avoid confusion.\n",
    " "
   ]
  },
  {
   "cell_type": "markdown",
   "metadata": {},
   "source": [
    "# How do you write comments in python? And Why Comments are important?"
   ]
  },
  {
   "cell_type": "markdown",
   "metadata": {},
   "source": [
    "* In Python , you can write comments to provide explainations or add notes to your code.Comments are the line which are ignored by the python interpreter and serve as documentation for humans reading the code.There are two ways to write comments in Python.\n",
    "1. Single line comments :\n",
    "* To write a comment that spans a single line we can use the symbol \"#\" Everything after the # Symbol on the same line is consirded as a comment and is ignored by the python interpreter.\n",
    "2. Multi line comments : \n",
    "* Python doesnot have a built in syntax for multiline comments like some other programming languages.However you can use multi-line strings (enclosed in triple quotes) as a workaround to create multi line comments.Although these are not actual comments they are treated as strings and ignored by the python interpreter.\n",
    "> Comments are important in programming for the following reasons \n",
    "1. Code Documentation :\n",
    "* Comments help explain the purpose , functionality and logic of code to other developers (Including your future self).They provide additional context and make the code more understandable and maintainable.\n",
    "2. Code readiblity :\n",
    "* Well written comments improve the readiblity of code by breaking it down into logical sections and providing high level explainations.Clear and concise comments can make it easier for others to understand and work with your code.\n",
    "3. Debugging and trobleshooting :\n",
    "* Comments can be helpful when debugging code or troubleshooting issues. They can provide insights into the thought process behind the code, making it easier to identify and fix bugs or make improvements.\n",
    "4. Collaboration and Communicaton :\n",
    "* Comments facilatate collaboartion among team members working on the same codebase. They alow developers to communicate ideas, provide suggestions or share important information within the code itself.\n",
    "5. Code disabling : \n",
    "* Commenta are also useful for temporarily disabling specific line of codes during testing or debugging.By Commeting out code , you can exclude it from execution without deleting it , allowing you to isolate and analyze specific parts of the code.\n",
    "> In Summary comments paly a vital role in making code more understandable , maintainable and collaborative.By documenting your code effectively you contribute to the overall quality and long term viabiltiy of your software projects."
   ]
  },
  {
   "cell_type": "markdown",
   "metadata": {},
   "source": [
    "# What do you mean by python literals?"
   ]
  },
  {
   "cell_type": "markdown",
   "metadata": {},
   "source": [
    "1. Numeric literals : \n",
    "* Integer literals : Whole numbers without a decimal point \n",
    "* Floating-point literals : Numbers with a decimal point or in exponential notation.\n",
    "* COmplex literals : Numbers with a real and imaginary part denoted by suffix 'j' or 'J'.\n",
    "2. String literals : \n",
    "* Enclosed in single quotes or double quotes or triple quotes.\n",
    "3. Boolean literals : \n",
    "* Represent the truth values True or False.\n",
    "* Used in logical operations and control flow.\n",
    "4. None literals : \n",
    "* Represents the absence of values or a null value.\n",
    "* denoted by the keyword \"None\"\n"
   ]
  },
  {
   "cell_type": "markdown",
   "metadata": {},
   "source": [
    "# What are different ways to asign a value to a variable?\n",
    "1. Simple assignment : \n",
    "* The most common way to assign a value to a variable is using the assignment operator = \n",
    "* The variable is declared on the left side and the value or expression to be assigned is on the right side.\n",
    "* eg : x = 10 \n",
    "2. Multiple assignment :\n",
    "* Python allows assigning multiple values to multiple variables simultaneously using a single line of code.\n",
    "* The numbers of the variables on the left side should match the numbers of values or expressions on the right side seperated by commas.\n",
    "* eg : x , y ,z = 10 , 20 , 20 \n",
    "3. Assigning the same value to multiple variables :\n",
    "* Its possible to assign the same value to multiple variables in a single line of code.\n",
    "* eg : x=y=z = 10 \n",
    "4. Swapping variables values : \n",
    "* Python provides a concise way to swap the values of two variables without using a temporary variable.\n",
    "* This is achieved by assigning the values in reverse order.\n",
    "* eg : a = 10\n",
    "       b = 20 \n",
    "       a ,b = b,a \n",
    "5. Augmented assignment : \n",
    "* Python supports augmented assignment operators that combine an arithmetic operation with the assignment operation.\n",
    "* It provides a shorthand for performing the operation and assigning the result back to the variable.\n",
    "* eg : x = 10 \n",
    "       x += 5  >> Equivalent to x = x + 5 \n",
    "6. Unpacking assignment :  \n",
    "* Python allows unpacking values from iterable objects and assigning them to multiple variables.\n",
    "* The number of the variables on the left side should match the number of elements in the iterable on the right side.\n",
    "* This is commonly used when working with tuples or lists.\n",
    "* eg : numbers = (1 , 2 , 3)\n",
    "       x, y , z = numbers \n",
    "\n"
   ]
  },
  {
   "cell_type": "markdown",
   "metadata": {},
   "source": [
    "# What are the escape characters in python? \n",
    "* In Python , escape characters are special characters that are used to represent certain formatting or control characters within string literals. \n",
    "* They are indicated by backlash(\"\\\") followed by specific character or sequence. Here are some commonly used escape characters in Python.\n",
    "1. Newline (\"\\n\") : \n",
    "* Inserts a new line character , causing the text to continue on a new line.\n",
    "2. Backlash (\"\\\\\") : \n",
    "* Inserts a literal backlash character.\n",
    "3. Single Quote (\"\\'\") : \n",
    "* Inserts a single quote character within a string literal enclosed in single quotes.\n",
    "4. Double quotes (\"\\\"\") : \n",
    "* Inserts a double quote character within a string literal enclosed in double quotes.\n",
    "5. Tab (\"\\t\") : Inserts a tab character , causing a horizontal indentation.\n",
    "6. Carriage Return (\"\\r\") : Inserts a carriage return character , typically used in combination with a newline character (\"\\n\") to represent a line break in old style text files. \n",
    "7. Backspace (\"\\b\") : Inserts a backspace character which moves the cursor ack one space.\n",
    "8. Form Feed (\"\\f\") : Inserts a form feed character often used to start a new page in printed documents.\n",
    "9. Unicode character (\"\\uXXXX\" or \"\\u{XXXX}\") : Inserts a unicode character with the specified hexadecimal point value.\n",
    "10. Raw string (r\"...\" or r'...') : Indicates that the string is raw string where escape characters are treated as literal characters and backlashes are not interpreted .\n"
   ]
  },
  {
   "cell_type": "markdown",
   "metadata": {},
   "source": [
    "# Which are the different ways to perform string formatting? Explain with examples.\n",
    "* In Python there are mutliple ways to perform string formatting \n",
    "1. String Interpolation with f-strings : \n",
    "* f-strings provides a concise and intuitive way to fromat strings using embedded expressions.\n",
    "* Place the expressions inside a curly braces \"{}\" within the string , precedded by the \"f\" prefix.\n",
    "* The expressions inside the curly braces is evaluated and its value is inserted into the string.\n",
    "* eg : name = \"Abhishek\"\n",
    "       age = 25 \n",
    "       print(f\" My Name is {name} and i am {age} years old\")\n",
    "\n",
    "2. STring formatting with the \"format()\" method : \n",
    "* The \"format()\" method allows for flexible string formatting with placeholders.\n",
    "* Use curlybraces {} as placeholders in the string and call the \"format()\" method on the string , passing the values to be inserted.\n",
    "* Placeholders can include indexes or names to specify the order or target specific values from the arguments.\n",
    "* eg : name = \"Abhishek\"\n",
    "       age = 28 \n",
    "       print(\"My name is {} and i am {} years old.\".format(name, age))\n",
    "3. C-style string formatting with \"%\" operator : \n",
    "* eg : name = \"Abhishek\"\n",
    "       age = 30 \n",
    "       print(\"My name is %s and i am %d years old.\"% (name, age))\n",
    "4. Template Strings : \n",
    "* eg : name = \"Abhishek\"\n",
    "       age = 30 \n",
    "       template = Template(\"My name is $name and i am $age years old.\")\n",
    "       result = template.substitute(name = name , age = age )\n",
    "       print(result)\n"
   ]
  },
  {
   "cell_type": "markdown",
   "metadata": {},
   "source": [
    "# Write a program to print every character of a string entered by the user in a new line using a loop \n"
   ]
  },
  {
   "cell_type": "code",
   "execution_count": 1,
   "metadata": {},
   "outputs": [
    {
     "name": "stdout",
     "output_type": "stream",
     "text": [
      "A\n",
      "b\n",
      "h\n",
      "i\n",
      "s\n",
      "h\n",
      "e\n",
      "k\n"
     ]
    }
   ],
   "source": [
    "user_input = input(\"Enter a String :\")\n",
    "for char in user_input:\n",
    "    print(char)"
   ]
  },
  {
   "cell_type": "markdown",
   "metadata": {},
   "source": [
    "# Write a program to find the length of the string \"Machine learning\" with and without len function"
   ]
  },
  {
   "cell_type": "code",
   "execution_count": 2,
   "metadata": {},
   "outputs": [
    {
     "name": "stdout",
     "output_type": "stream",
     "text": [
      "Length of string using len function :  16\n"
     ]
    }
   ],
   "source": [
    "# Using len function\n",
    "string = \"Machine Learning\"\n",
    "length = len(string)\n",
    "print(\"Length of string using len function : \", length)"
   ]
  },
  {
   "cell_type": "code",
   "execution_count": 3,
   "metadata": {},
   "outputs": [
    {
     "name": "stdout",
     "output_type": "stream",
     "text": [
      "Length of string is 16\n"
     ]
    }
   ],
   "source": [
    "# Without using len function\n",
    "string = \"Machine Learning\"\n",
    "length = 0 \n",
    "for i in string:\n",
    "    length += 1 \n",
    "print(f\"Length of string is {length}\")"
   ]
  },
  {
   "cell_type": "markdown",
   "metadata": {},
   "source": [
    "# Write a program to check if the word \"orange\" is present in the \"This is orange juice\". "
   ]
  },
  {
   "cell_type": "code",
   "execution_count": 4,
   "metadata": {},
   "outputs": [
    {
     "name": "stdout",
     "output_type": "stream",
     "text": [
      "orange is present in sentence\n"
     ]
    }
   ],
   "source": [
    "sentence = \"This is orange juice\"\n",
    "keyword = \"orange\"\n",
    "\n",
    "if keyword in sentence:\n",
    "    print(\"orange is present in sentence\")\n",
    "else:\n",
    "    print(\"orange is not present in sentence\")"
   ]
  },
  {
   "cell_type": "markdown",
   "metadata": {},
   "source": [
    "# Write a program to find the number of vowels,consonants,digits and whitespaces in a string."
   ]
  },
  {
   "cell_type": "code",
   "execution_count": 5,
   "metadata": {},
   "outputs": [
    {
     "name": "stdout",
     "output_type": "stream",
     "text": [
      "Vowels count :  6\n",
      "Consonant count :  10\n",
      "Digit count :  3\n",
      "Whitespace count :  4\n"
     ]
    }
   ],
   "source": [
    "input_string = input(\"Enter a string:\")\n",
    "vowels = \"aeiou\"\n",
    "consonants = \"bcdfghjklmnpqrstvwxyz\"\n",
    "digits = \"0123456789\"\n",
    "vowel_count = 0 \n",
    "consonant_count = 0\n",
    "digit_count = 0\n",
    "whitespace_count = 0 \n",
    "for char in input_string:\n",
    "    if char.lower() in vowels:\n",
    "        vowel_count += 1 \n",
    "    if char.lower() in consonants:\n",
    "        consonant_count += 1\n",
    "    if char in digits:\n",
    "        digit_count += 1\n",
    "    if char.isspace():\n",
    "        whitespace_count += 1\n",
    "print(\"Vowels count : \", vowel_count)\n",
    "print(\"Consonant count : \", consonant_count)\n",
    "print(\"Digit count : \", digit_count)\n",
    "print(\"Whitespace count : \", whitespace_count)\n",
    "\n"
   ]
  },
  {
   "cell_type": "markdown",
   "metadata": {},
   "source": [
    "# Write a python program to count uppercase , lowercase , special characters and numeric values in a given string "
   ]
  },
  {
   "cell_type": "code",
   "execution_count": 1,
   "metadata": {},
   "outputs": [
    {
     "name": "stdout",
     "output_type": "stream",
     "text": [
      "Upper case count:  2\n",
      "Lower case count:  15\n",
      "Special count:  1\n",
      "Number of digits:  0\n"
     ]
    }
   ],
   "source": [
    "input_string = input(\"Enter a string:\")\n",
    "uppercase_count = 0 \n",
    "lowercase_count = 0 \n",
    "special_count = 0\n",
    "numeric_count = 0\n",
    "\n",
    "for char in input_string:\n",
    "    if char.islower():\n",
    "        lowercase_count += 1\n",
    "    elif char.isupper(): \n",
    "        uppercase_count += 1\n",
    "    elif char.isdigit():\n",
    "        numeric_count += 1\n",
    "    else :\n",
    "        special_count += 1\n",
    "print(\"Upper case count: \", uppercase_count)\n",
    "print(\"Lower case count: \",lowercase_count)\n",
    "print(\"Special count: \",special_count)\n",
    "print(\"Number of digits: \",numeric_count)"
   ]
  },
  {
   "cell_type": "markdown",
   "metadata": {},
   "source": [
    "# Write a python program to make a new string with all the consonants deleted from the string\"Hello, have a good day\"."
   ]
  },
  {
   "cell_type": "code",
   "execution_count": 2,
   "metadata": {},
   "outputs": [
    {
     "name": "stdout",
     "output_type": "stream",
     "text": [
      "original string: Hello,have a good day\n",
      "New string with consonants deleted: eoaeaooa\n"
     ]
    }
   ],
   "source": [
    "input_string = \"Hello,have a good day\"\n",
    "vowels = \"aeiouAEIOU\"\n",
    "new_string = \"\"\n",
    "for char in input_string:\n",
    "    if char.isalpha() and char in vowels:\n",
    "        new_string += char\n",
    "\n",
    "print(\"original string:\",input_string)\n",
    "print(\"New string with consonants deleted:\",new_string)"
   ]
  },
  {
   "cell_type": "markdown",
   "metadata": {},
   "source": [
    "# Write a python program to remove the nth index character from non empty string"
   ]
  },
  {
   "cell_type": "code",
   "execution_count": 8,
   "metadata": {},
   "outputs": [
    {
     "name": "stdout",
     "output_type": "stream",
     "text": [
      "Original string:  abhishek is a good boy\n",
      "New string with index removed:  abhisek is a good boy\n"
     ]
    }
   ],
   "source": [
    "input_string = input(\"Enter a non empty string:\")\n",
    "index = int(input(\"Enter the index of the character to be removed:\"))\n",
    "\n",
    "if index < 0 or index > len(input_string): \n",
    "    print(\"Invalid Index\")\n",
    "else:\n",
    "    new_string = input_string[:index] + input_string[index+1:]\n",
    "    print(\"Original string: \", input_string)\n",
    "    print(\"New string with index removed: \", new_string)"
   ]
  },
  {
   "cell_type": "markdown",
   "metadata": {},
   "source": [
    "# Write a python program to change a give string to a new string where the first character and last character have been exchanged"
   ]
  },
  {
   "cell_type": "code",
   "execution_count": 9,
   "metadata": {},
   "outputs": [
    {
     "name": "stdout",
     "output_type": "stream",
     "text": [
      "Original string:  abhishek is a godd boy\n",
      "String with first and last characters exchanged:  ybhishek is a godd boa\n"
     ]
    }
   ],
   "source": [
    "input_string = input(\"Enter a string:\")\n",
    "if len(input_string) < 2 : \n",
    "    print(\"String should have at least 2 characters\")\n",
    "else:\n",
    "    new_string = input_string[-1] + input_string[1:-1] + input_string[0]\n",
    "    print(\"Original string: \", input_string)\n",
    "    print(\"String with first and last characters exchanged: \", new_string)"
   ]
  },
  {
   "cell_type": "markdown",
   "metadata": {},
   "source": [
    "# Write a python program to count the occurrences of each word in a given sentence"
   ]
  },
  {
   "cell_type": "code",
   "execution_count": 10,
   "metadata": {},
   "outputs": [
    {
     "name": "stdout",
     "output_type": "stream",
     "text": [
      "in the given string a is been repeated 3 times\n",
      "in the given string a is been repeated 3 times\n",
      "in the given string   is been repeated 3 times\n",
      "in the given string a is been repeated 3 times\n",
      "in the given string b is been repeated 1 times\n",
      "in the given string h is been repeated 2 times\n",
      "in the given string i is been repeated 1 times\n",
      "in the given string s is been repeated 1 times\n",
      "in the given string h is been repeated 2 times\n",
      "in the given string e is been repeated 1 times\n",
      "in the given string k is been repeated 3 times\n",
      "in the given string   is been repeated 3 times\n",
      "in the given string k is been repeated 3 times\n",
      "in the given string k is been repeated 3 times\n",
      "in the given string   is been repeated 3 times\n"
     ]
    }
   ],
   "source": [
    "s = str(input(\"Enter a string:\"))\n",
    "word = \"\"\n",
    "for i in s:\n",
    "    word = i \n",
    "    count = s.count(word)\n",
    "    print(f\"in the given string {word} is been repeated {count} times\")"
   ]
  },
  {
   "cell_type": "markdown",
   "metadata": {},
   "source": [
    "# How do you count the occurence of a given character in a string?"
   ]
  },
  {
   "cell_type": "code",
   "execution_count": 11,
   "metadata": {},
   "outputs": [
    {
     "name": "stdout",
     "output_type": "stream",
     "text": [
      "abhishek : 1\n",
      "wakchaure : 1\n"
     ]
    }
   ],
   "source": [
    "s = str(input(\"Enter a string:\"))\n",
    "ss = s.split()\n",
    "for i in ss:\n",
    "    if i in ss:\n",
    "        ss.count(i)\n",
    "        print(f\"{i} : {s.count(i)}\")\n",
    "    else:\n",
    "        print(\"Word is not repeated\")"
   ]
  },
  {
   "cell_type": "markdown",
   "metadata": {},
   "source": [
    "# Write a python program to find last 10 characters of a string "
   ]
  },
  {
   "cell_type": "code",
   "execution_count": 12,
   "metadata": {},
   "outputs": [
    {
     "name": "stdout",
     "output_type": "stream",
     "text": [
      "Last 10 characters of the string:  Wakchaure\n"
     ]
    }
   ],
   "source": [
    "input_string = input(\"Enter a string:\")\n",
    "last_10_characters = input_string[-10:]\n",
    "print(\"Last 10 characters of the string:\",last_10_characters)"
   ]
  },
  {
   "cell_type": "markdown",
   "metadata": {},
   "source": [
    "# WAP to convert a given string to all uppercase if it contains at least 2 uppercase characters in the first 4 characters"
   ]
  },
  {
   "cell_type": "code",
   "execution_count": 13,
   "metadata": {},
   "outputs": [
    {
     "name": "stdout",
     "output_type": "stream",
     "text": [
      "Upper Case string : HELLO HOW ARE YOU\n"
     ]
    }
   ],
   "source": [
    "input_string = input(\"Enter a string :\")\n",
    "uppercase_count = 0 \n",
    "for char in input_string[:4]:\n",
    "    if char.isupper():\n",
    "        uppercase_count += 1 \n",
    "if uppercase_count >= 2:\n",
    "    uppercase_string = input_string.upper()\n",
    "    print(\"Upper Case string :\",uppercase_string)\n",
    "else:\n",
    "    print(\"No COnversion required.String doesnot meet the condition\")\n",
    "     "
   ]
  },
  {
   "cell_type": "markdown",
   "metadata": {},
   "source": [
    "# Write a Python program to remove a newline in Python "
   ]
  },
  {
   "cell_type": "code",
   "execution_count": 14,
   "metadata": {},
   "outputs": [
    {
     "name": "stdout",
     "output_type": "stream",
     "text": [
      "Original string: This is a string with a newline.\n",
      "\n",
      "New string without newline: This is a string with a newline.\n"
     ]
    }
   ],
   "source": [
    "input_string = \"This is a string with a newline.\\n\"\n",
    "# Remove the newline using the replace()\n",
    "new_string = input_string.replace(\"\\n\",\"\")\n",
    "print(\"Original string:\",input_string)\n",
    "print(\"New string without newline:\",new_string)"
   ]
  },
  {
   "cell_type": "markdown",
   "metadata": {},
   "source": [
    "# Write a Python program to swap commas and dots in a string.\n",
    "> Sample string : \"32.054,23\"\n",
    "> Expected output : \"32,054.23\"\n"
   ]
  },
  {
   "cell_type": "code",
   "execution_count": 15,
   "metadata": {},
   "outputs": [
    {
     "name": "stdout",
     "output_type": "stream",
     "text": [
      "Original string: 32.054,23\n",
      "Swapped string: 32,054.23\n"
     ]
    }
   ],
   "source": [
    "input_string = \"32.054,23\"\n",
    "# Swapping the commas and dots using replace()\n",
    "swapped_string = input_string.replace(\",\",\"*\").replace(\".\",\",\").replace(\"*\",\".\")\n",
    "print(\"Original string:\",input_string)\n",
    "print(\"Swapped string:\",swapped_string)"
   ]
  },
  {
   "cell_type": "markdown",
   "metadata": {},
   "source": [
    "# Write a python program to find the first repeated character in a given string"
   ]
  },
  {
   "cell_type": "code",
   "execution_count": 16,
   "metadata": {},
   "outputs": [
    {
     "name": "stdout",
     "output_type": "stream",
     "text": [
      "First repeated character: h\n"
     ]
    }
   ],
   "source": [
    "input_string = input(\"Enter a string:\")\n",
    "char_count = {}\n",
    "for char in input_string:\n",
    "    if char in char_count:\n",
    "        print(\"First repeated character:\",char)\n",
    "        break\n",
    "    char_count[char] = 1\n",
    "else:\n",
    "    print(\"No repeated character found\")"
   ]
  },
  {
   "cell_type": "markdown",
   "metadata": {},
   "source": [
    "# Write a python program to find the second most repated word in a given string"
   ]
  },
  {
   "cell_type": "markdown",
   "metadata": {},
   "source": [
    "# Write a python program to count even and odd numbers in a given string"
   ]
  },
  {
   "cell_type": "code",
   "execution_count": 17,
   "metadata": {},
   "outputs": [
    {
     "name": "stdout",
     "output_type": "stream",
     "text": [
      "Even numbers count : 4\n",
      "odd number count : 5\n"
     ]
    }
   ],
   "source": [
    "input_string = input(\"Enter a string:\")\n",
    "even_count = 0 \n",
    "odd_count = 0\n",
    "# Iterate over each character in the string \n",
    "for char in input_string:\n",
    "    if char.isdigit():\n",
    "        num = int(char)\n",
    "        if num%2 == 0:\n",
    "            even_count += 1\n",
    "        else :\n",
    "            odd_count += 1\n",
    "print(\"Even numbers count :\",even_count)\n",
    "print(\"odd number count :\",odd_count)"
   ]
  },
  {
   "cell_type": "markdown",
   "metadata": {},
   "source": [
    "# How do you check if the string contains only digits?"
   ]
  },
  {
   "cell_type": "code",
   "execution_count": 19,
   "metadata": {},
   "outputs": [
    {
     "name": "stdout",
     "output_type": "stream",
     "text": [
      "String contains only digits\n"
     ]
    }
   ],
   "source": [
    "input_string = input(\"Enter a string:\")\n",
    "if input_string.isdigit() == True:\n",
    "    print(\"String contains only digits\")\n",
    "else:\n",
    "    print(\"String contains alphabets\")"
   ]
  },
  {
   "cell_type": "markdown",
   "metadata": {},
   "source": [
    "# How do you remove a given character/word from string?"
   ]
  },
  {
   "cell_type": "code",
   "execution_count": 21,
   "metadata": {},
   "outputs": [
    {
     "name": "stdout",
     "output_type": "stream",
     "text": [
      "['A', 'b', 'h', 'i', 's', 'h', 'e', 'k']\n",
      "['A', 'h', 'i', 's', 'h', 'e', 'k']\n",
      "Ahishek\n"
     ]
    }
   ],
   "source": [
    "a = \"Abhishek\"\n",
    "List = list(a)\n",
    "print(List)\n",
    "x = input(\"\")\n",
    "if x in List:\n",
    "    List.remove(x)\n",
    "    print(List)\n",
    "else:\n",
    "    print(\"Chararcter not found\")\n",
    "Str = \"\"\n",
    "result = Str.join(List)\n",
    "print(result)"
   ]
  },
  {
   "cell_type": "markdown",
   "metadata": {},
   "source": [
    "# Write a Python program to remove the characters which have odd index values?"
   ]
  },
  {
   "cell_type": "code",
   "execution_count": 25,
   "metadata": {},
   "outputs": [
    {
     "name": "stdout",
     "output_type": "stream",
     "text": [
      "['b', 'i', 'k']\n"
     ]
    }
   ],
   "source": [
    "a = \"Abhishek\"\n",
    "k = []\n",
    "for i in a:\n",
    "    if a.index(i)%2!= 0 :\n",
    "        k.append(i)\n",
    "print(k)\n"
   ]
  },
  {
   "cell_type": "markdown",
   "metadata": {},
   "source": [
    "# Write a python function to reverse a string if its length is multiple of 5 "
   ]
  },
  {
   "cell_type": "code",
   "execution_count": 27,
   "metadata": {},
   "outputs": [
    {
     "name": "stdout",
     "output_type": "stream",
     "text": [
      "Length is not multiple of 5\n"
     ]
    }
   ],
   "source": [
    "input_string = input(\"Enter a string:\")\n",
    "if len(input_string)%5==0:\n",
    "    output_string = input_string[::-1]\n",
    "    print(output_string)\n",
    "else:\n",
    "    print(\"Length is not multiple of 5\")"
   ]
  },
  {
   "cell_type": "markdown",
   "metadata": {},
   "source": [
    "# Write a python program to format a numeber with a percentage(0.05 >> 5%)\n"
   ]
  },
  {
   "cell_type": "code",
   "execution_count": 28,
   "metadata": {},
   "outputs": [
    {
     "name": "stdout",
     "output_type": "stream",
     "text": [
      "5 %\n"
     ]
    }
   ],
   "source": [
    "A = 0.05*100\n",
    "A = 5.0\n",
    "print(round(A),\"%\")\n"
   ]
  },
  {
   "cell_type": "markdown",
   "metadata": {},
   "source": [
    "# Write a python program to reverse words in a string "
   ]
  },
  {
   "cell_type": "code",
   "execution_count": 31,
   "metadata": {},
   "outputs": [
    {
     "name": "stdout",
     "output_type": "stream",
     "text": [
      "kehsihba\n"
     ]
    }
   ],
   "source": [
    "input_string = str(input(\"Enter a string\"))\n",
    "empty = []\n",
    "for i in input_string:\n",
    "    empty = input_string[::-1]\n",
    "print(empty)\n"
   ]
  },
  {
   "cell_type": "markdown",
   "metadata": {},
   "source": [
    "# Write a python program to swapcases of a given string "
   ]
  },
  {
   "cell_type": "code",
   "execution_count": 30,
   "metadata": {},
   "outputs": [
    {
     "name": "stdout",
     "output_type": "stream",
     "text": [
      "ABHISHEk\n"
     ]
    }
   ],
   "source": [
    "input_string = str(input(\"Enter a string\"))\n",
    "empty = []\n",
    "for i in input_string:\n",
    "    empty = input_string.swapcase()\n",
    "print(empty)"
   ]
  },
  {
   "cell_type": "markdown",
   "metadata": {},
   "source": [
    "# Write a python program to remove spaces from a given string"
   ]
  },
  {
   "cell_type": "code",
   "execution_count": 32,
   "metadata": {},
   "outputs": [
    {
     "name": "stdout",
     "output_type": "stream",
     "text": [
      "Old string: abhishek wakchaure\n",
      "New string: abhishekwakchaure\n"
     ]
    }
   ],
   "source": [
    "input_string = str(input(\"Enter a string:\"))\n",
    "output_string = input_string.replace(\" \",\"\")\n",
    "print(\"Old string:\",input_string)\n",
    "print(\"New string:\",output_string)"
   ]
  },
  {
   "cell_type": "markdown",
   "metadata": {},
   "source": [
    "# Write a python program to remove duplicates characters from a given string"
   ]
  },
  {
   "cell_type": "code",
   "execution_count": 33,
   "metadata": {},
   "outputs": [
    {
     "data": {
      "text/plain": [
       "['a', 'b', 'h', 'i', 's', 'e', 'k']"
      ]
     },
     "execution_count": 33,
     "metadata": {},
     "output_type": "execute_result"
    }
   ],
   "source": [
    "input_string = str(input(\"Enter a string:\"))\n",
    "output_string = []\n",
    "for i in input_string:\n",
    "    if i not in output_string:\n",
    "        output_string.append(i)\n",
    "output_string\n"
   ]
  },
  {
   "cell_type": "markdown",
   "metadata": {},
   "source": [
    "# Write a python program to find the area of the circle"
   ]
  },
  {
   "cell_type": "code",
   "execution_count": 34,
   "metadata": {},
   "outputs": [
    {
     "name": "stdout",
     "output_type": "stream",
     "text": [
      "Area of the circle:  78.5\n"
     ]
    }
   ],
   "source": [
    "radius = eval(input(\"Enter the radius of the circle:\"))\n",
    "area = 3.14 * radius * radius\n",
    "print(\"Area of the circle: \",area)"
   ]
  },
  {
   "cell_type": "markdown",
   "metadata": {},
   "source": [
    "# Python program to find the sum of squares of first n natural numbers"
   ]
  },
  {
   "cell_type": "code",
   "execution_count": 35,
   "metadata": {},
   "outputs": [
    {
     "name": "stdout",
     "output_type": "stream",
     "text": [
      "0\n",
      "1\n",
      "4\n",
      "9\n",
      "16\n",
      "25\n"
     ]
    }
   ],
   "source": [
    "num = eval(input(\"Enter a number:\"))\n",
    "for i in range(0 , num+1):\n",
    "    print(i * i)"
   ]
  },
  {
   "cell_type": "markdown",
   "metadata": {},
   "source": [
    "# Python program to find the cube of first n natural numbers"
   ]
  },
  {
   "cell_type": "code",
   "execution_count": 36,
   "metadata": {},
   "outputs": [
    {
     "name": "stdout",
     "output_type": "stream",
     "text": [
      "0\n",
      "1\n",
      "8\n",
      "27\n",
      "64\n",
      "125\n"
     ]
    }
   ],
   "source": [
    "num = eval(input(\"Enter a number:\"))\n",
    "for i in range(0 , num+1):\n",
    "    print(i*i*i)"
   ]
  },
  {
   "cell_type": "markdown",
   "metadata": {},
   "source": [
    "# Python program to check if a number is prime or not "
   ]
  },
  {
   "cell_type": "code",
   "execution_count": 40,
   "metadata": {},
   "outputs": [
    {
     "name": "stdout",
     "output_type": "stream",
     "text": [
      "Prime number\n"
     ]
    }
   ],
   "source": [
    "n = eval(input(\"Enter a number:\"))\n",
    "for i in range(2 , n):\n",
    "    if n % i == 0:\n",
    "        print(\"Not Prime\")\n",
    "        break\n",
    "    else:\n",
    "        print(\"Prime number\")\n",
    "        break"
   ]
  },
  {
   "cell_type": "markdown",
   "metadata": {},
   "source": [
    "# Write a program to print every character of a string entered by the user in a new line using a loop "
   ]
  },
  {
   "cell_type": "code",
   "execution_count": 41,
   "metadata": {},
   "outputs": [
    {
     "name": "stdout",
     "output_type": "stream",
     "text": [
      "a\n",
      "b\n",
      "h\n",
      "i\n",
      "s\n",
      "h\n",
      "e\n",
      "k\n"
     ]
    }
   ],
   "source": [
    "s = str(input(\"Enter a String:\"))\n",
    "for i in s:\n",
    "    print(i)"
   ]
  },
  {
   "cell_type": "markdown",
   "metadata": {},
   "source": []
  }
 ],
 "metadata": {
  "kernelspec": {
   "display_name": "Python 3",
   "language": "python",
   "name": "python3"
  },
  "language_info": {
   "codemirror_mode": {
    "name": "ipython",
    "version": 3
   },
   "file_extension": ".py",
   "mimetype": "text/x-python",
   "name": "python",
   "nbconvert_exporter": "python",
   "pygments_lexer": "ipython3",
   "version": "3.11.3"
  }
 },
 "nbformat": 4,
 "nbformat_minor": 2
}
