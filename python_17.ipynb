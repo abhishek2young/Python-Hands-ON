{
 "cells": [
  {
   "cell_type": "code",
   "execution_count": null,
   "metadata": {},
   "outputs": [],
   "source": [
    "from collections import OrderedDict\n",
    "dict1 = {'ravi': '10', 'rajnish': '9',\n",
    "        'sanjeev': '15', 'yash': '2', 'suraj': '32'}\n",
    "result = OrderedDict()"
   ]
  },
  {
   "cell_type": "code",
   "execution_count": 1,
   "metadata": {},
   "outputs": [
    {
     "data": {
      "text/plain": [
       "{'a': 88, 'd': 42, 'l': 11, 'o': 89, 'p': 5}"
      ]
     },
     "execution_count": 1,
     "metadata": {},
     "output_type": "execute_result"
    }
   ],
   "source": [
    "key_value={'l':11,'o':89,'a':88,'d':42,'p':5}\n",
    "result = dict(sorted(key_value.items()))\n",
    "result"
   ]
  },
  {
   "cell_type": "code",
   "execution_count": 2,
   "metadata": {},
   "outputs": [
    {
     "data": {
      "text/plain": [
       "{'a': 88, 'd': 42, 'l': 11, 'o': 89, 'p': 5}"
      ]
     },
     "execution_count": 2,
     "metadata": {},
     "output_type": "execute_result"
    }
   ],
   "source": [
    "key_value={'l':11,'o':89,'a':88,'d':42,'p':5}\n",
    "result = dict(sorted(key_value.items()))\n",
    "result"
   ]
  },
  {
   "cell_type": "code",
   "execution_count": 3,
   "metadata": {},
   "outputs": [
    {
     "data": {
      "text/plain": [
       "{'cc': 3, 'bb': 6, 'dd': 12, 'aa': 44}"
      ]
     },
     "execution_count": 3,
     "metadata": {},
     "output_type": "execute_result"
    }
   ],
   "source": [
    "dt = {'aa':44, 'bb':6, 'cc':3,'dd':12}\n",
    "result = dict(sorted(dt.items(),key=lambda x : x[1]))\n",
    "result"
   ]
  },
  {
   "cell_type": "code",
   "execution_count": 4,
   "metadata": {},
   "outputs": [
    {
     "data": {
      "text/plain": [
       "{'cc': 3, 'bb': 6, 'dd': 12, 'aa': 44}"
      ]
     },
     "execution_count": 4,
     "metadata": {},
     "output_type": "execute_result"
    }
   ],
   "source": [
    "dt = {'aa':44, 'bb':6, 'cc':3,'dd':12}\n",
    "result = dict(sorted(dt.items(),key=lambda x : x[1]))\n",
    "result"
   ]
  },
  {
   "cell_type": "code",
   "execution_count": 5,
   "metadata": {},
   "outputs": [
    {
     "data": {
      "text/plain": [
       "65"
      ]
     },
     "execution_count": 5,
     "metadata": {},
     "output_type": "execute_result"
    }
   ],
   "source": [
    "dt = {'aa':44, 'bb':6, 'cc':3,'dd':12}\n",
    "result = dt.values()\n",
    "sum(result)"
   ]
  },
  {
   "cell_type": "code",
   "execution_count": 6,
   "metadata": {},
   "outputs": [
    {
     "data": {
      "text/plain": [
       "65"
      ]
     },
     "execution_count": 6,
     "metadata": {},
     "output_type": "execute_result"
    }
   ],
   "source": [
    "dt = {'aa':44, 'bb':6, 'cc':3,'dd':12}\n",
    "sum1 = 0 \n",
    "for i in dt.values():\n",
    "    sum1 += i\n",
    "sum1 \n"
   ]
  },
  {
   "cell_type": "code",
   "execution_count": 7,
   "metadata": {},
   "outputs": [
    {
     "data": {
      "text/plain": [
       "{'Mani': 21, 'Haritha': 21}"
      ]
     },
     "execution_count": 7,
     "metadata": {},
     "output_type": "execute_result"
    }
   ],
   "source": [
    "test_dict = {\"Arushi\": 22, \"Mani\": 21, \"Haritha\": 21}\n",
    "del test_dict[\"Arushi\"]\n",
    "test_dict"
   ]
  },
  {
   "cell_type": "code",
   "execution_count": 8,
   "metadata": {},
   "outputs": [
    {
     "data": {
      "text/plain": [
       "{'Arushi': 22, 'Haritha': 21}"
      ]
     },
     "execution_count": 8,
     "metadata": {},
     "output_type": "execute_result"
    }
   ],
   "source": [
    "test_dict = {\"Arushi\": 22, \"Mani\": 21, \"Haritha\": 21}\n",
    "del test_dict[\"Mani\"]\n",
    "test_dict"
   ]
  },
  {
   "cell_type": "code",
   "execution_count": 9,
   "metadata": {},
   "outputs": [
    {
     "data": {
      "text/plain": [
       "22"
      ]
     },
     "execution_count": 9,
     "metadata": {},
     "output_type": "execute_result"
    }
   ],
   "source": [
    "test_dict = {\"Arushi\": 22, \"Mani\": 21, \"Haritha\": 21}\n",
    "test_dict.pop(\"Arushi\")"
   ]
  },
  {
   "cell_type": "code",
   "execution_count": 10,
   "metadata": {},
   "outputs": [
    {
     "data": {
      "text/plain": [
       "{'Arushi': 22,\n",
       " 'Mani': 21,\n",
       " 'Haritha': 21,\n",
       " 'Leena': 32,\n",
       " 'aa': 44,\n",
       " 'bb': 6,\n",
       " 'cc': 3,\n",
       " 'dd': 12}"
      ]
     },
     "execution_count": 10,
     "metadata": {},
     "output_type": "execute_result"
    }
   ],
   "source": [
    "d1= {\"Arushi\": 22, \"Mani\": 21, \"Haritha\": 21,'Leena':32}\n",
    "d2={'aa':44, 'bb':6, 'cc':3,'dd':12}\n",
    "result = {**d1,**d2}\n",
    "result"
   ]
  },
  {
   "cell_type": "code",
   "execution_count": 11,
   "metadata": {},
   "outputs": [
    {
     "data": {
      "text/plain": [
       "{'aa': 44,\n",
       " 'bb': 6,\n",
       " 'cc': 3,\n",
       " 'dd': 12,\n",
       " 'Arushi': 22,\n",
       " 'Mani': 21,\n",
       " 'Haritha': 21,\n",
       " 'Leena': 32}"
      ]
     },
     "execution_count": 11,
     "metadata": {},
     "output_type": "execute_result"
    }
   ],
   "source": [
    "d1= {\"Arushi\": 22, \"Mani\": 21, \"Haritha\": 21,'Leena':32}\n",
    "d2={'aa':44, 'bb':6, 'cc':3,'dd':12}\n",
    "result = {**d2,**d1}\n",
    "result"
   ]
  },
  {
   "cell_type": "code",
   "execution_count": 12,
   "metadata": {},
   "outputs": [
    {
     "data": {
      "text/plain": [
       "{'Arushi': 22,\n",
       " 'Mani': 21,\n",
       " 'Haritha': 21,\n",
       " 'Leena': 32,\n",
       " 'aa': 44,\n",
       " 'bb': 6,\n",
       " 'cc': 3,\n",
       " 'dd': 12}"
      ]
     },
     "execution_count": 12,
     "metadata": {},
     "output_type": "execute_result"
    }
   ],
   "source": [
    "d1= {\"Arushi\": 22, \"Mani\": 21, \"Haritha\": 21,'Leena':32}\n",
    "d2={'aa':44, 'bb':6, 'cc':3,'dd':12}\n",
    "d1.update(d2)\n",
    "d1"
   ]
  },
  {
   "cell_type": "code",
   "execution_count": 14,
   "metadata": {},
   "outputs": [
    {
     "data": {
      "text/plain": [
       "{'aa': 44,\n",
       " 'bb': 6,\n",
       " 'cc': 3,\n",
       " 'dd': 12,\n",
       " 'Arushi': 22,\n",
       " 'Mani': 21,\n",
       " 'Haritha': 21,\n",
       " 'Leena': 32}"
      ]
     },
     "execution_count": 14,
     "metadata": {},
     "output_type": "execute_result"
    }
   ],
   "source": [
    "d1= {\"Arushi\": 22, \"Mani\": 21, \"Haritha\": 21,'Leena':32}\n",
    "d2={'aa':44, 'bb':6, 'cc':3,'dd':12}\n",
    "d2.update(d1)\n",
    "d2"
   ]
  },
  {
   "cell_type": "code",
   "execution_count": 15,
   "metadata": {},
   "outputs": [
    {
     "name": "stdout",
     "output_type": "stream",
     "text": [
      "Percentage recieved by the student is : 76.66666666666667\n",
      "Grade recieved by Student is :B\n"
     ]
    }
   ],
   "source": [
    "def calc(percent):\n",
    "    if percent >= 90:\n",
    "        return \"A+\"\n",
    "    elif 80 <= percent < 90:\n",
    "        return \"A\"\n",
    "    elif 70 <= percent < 80:\n",
    "        return \"B\"\n",
    "    elif 60 <= percent < 70:\n",
    "        return \"C\"\n",
    "    elif 50 <= percent < 60:\n",
    "        return \"D\"\n",
    "    else:\n",
    "        return \"Fail\"\n",
    "    \n",
    "def main():\n",
    "    total_marks = 0 \n",
    "    no_of_subjects = int(input(\"Enter the number of subjects:\"))\n",
    "\n",
    "    for i in range(no_of_subjects):\n",
    "        marks = eval(input(\"Enter the marks of the subject:\"))\n",
    "        total_marks += marks\n",
    "\n",
    "    average_percent = total_marks / no_of_subjects\n",
    "    grade = calc(average_percent)\n",
    "    print(f\"Percentage recieved by the student is : {average_percent}\")\n",
    "    print(f\"Grade recieved by Student is :{grade}\")\n",
    "\n",
    "if __name__ == \"__main__\":\n",
    "    main()"
   ]
  },
  {
   "cell_type": "code",
   "execution_count": 17,
   "metadata": {},
   "outputs": [
    {
     "data": {
      "text/plain": [
       "{'e i l n s t': ['listen', 'silent', 'enlist'],\n",
       " 'e h l l o': ['hello'],\n",
       " 'd l o r w': ['world'],\n",
       " 'a c t': ['act', 'cat'],\n",
       " 'd g o': ['dog', 'god']}"
      ]
     },
     "execution_count": 17,
     "metadata": {},
     "output_type": "execute_result"
    }
   ],
   "source": [
    "words = [\"listen\", \"silent\", \"enlist\", \"hello\", \"world\", \"act\", \"cat\", \"dog\", \"god\"]\n",
    "anagram_dict = {}\n",
    "for word in words:\n",
    "    sorted_word = \" \".join(sorted(word))\n",
    "\n",
    "    if sorted_word in anagram_dict:\n",
    "        anagram_dict[sorted_word].append(word)\n",
    "    else:\n",
    "        anagram_dict[sorted_word] = [word]\n",
    "anagram_dict"
   ]
  },
  {
   "cell_type": "code",
   "execution_count": 18,
   "metadata": {},
   "outputs": [
    {
     "data": {
      "text/plain": [
       "{'e i l n s t': ['listen', 'silent', 'enlist'],\n",
       " 'e h l l o': ['hello'],\n",
       " 'd l o r w': ['world'],\n",
       " 'a c t': ['act', 'cat'],\n",
       " 'd g o': ['dog', 'god']}"
      ]
     },
     "execution_count": 18,
     "metadata": {},
     "output_type": "execute_result"
    }
   ],
   "source": [
    "words = [\"listen\", \"silent\", \"enlist\", \"hello\", \"world\", \"act\", \"cat\", \"dog\", \"god\"]\n",
    "anagram_dict = {}\n",
    "for word in words:\n",
    "    sorted_word = \" \".join(sorted(word))\n",
    "\n",
    "    if sorted_word in anagram_dict:\n",
    "        anagram_dict[sorted_word].append(word)\n",
    "    else:\n",
    "        anagram_dict[sorted_word] = [word]\n",
    "anagram_dict"
   ]
  },
  {
   "cell_type": "code",
   "execution_count": 19,
   "metadata": {},
   "outputs": [
    {
     "name": "stdout",
     "output_type": "stream",
     "text": [
      "The binary representation of 10 and 10 are anagrams\n"
     ]
    }
   ],
   "source": [
    "def check_bin(num1,num2):\n",
    "    binary_1 = bin(num1)[2:]\n",
    "    binary_2 = bin(num2)[2:]\n",
    "\n",
    "    return sorted(binary_1) == sorted(binary_2)\n",
    "\n",
    "num1 = 10 \n",
    "num2 = 10\n",
    "if check_bin(num1,num2):\n",
    "    print(f\"The binary representation of {num1} and {num2} are anagrams\")\n",
    "else:\n",
    "    print(f\"The binary representation of {num1} and {num2} are not anagram\")"
   ]
  },
  {
   "cell_type": "code",
   "execution_count": 20,
   "metadata": {},
   "outputs": [
    {
     "data": {
      "text/plain": [
       "3"
      ]
     },
     "execution_count": 20,
     "metadata": {},
     "output_type": "execute_result"
    }
   ],
   "source": [
    "from collections import Counter\n",
    "def largest(words):\n",
    "    words_count = Counter(\"\".join(sorted(word)) for word in words)\n",
    "    result = max(words_count.values(),default=0)\n",
    "    return result\n",
    "\n",
    "word_list = [\"listen\", \"silent\", \"enlist\", \"dog\", \"god\", \"good\"]\n",
    "final = largest(word_list)\n",
    "final"
   ]
  },
  {
   "cell_type": "code",
   "execution_count": 21,
   "metadata": {},
   "outputs": [
    {
     "data": {
      "text/plain": [
       "3"
      ]
     },
     "execution_count": 21,
     "metadata": {},
     "output_type": "execute_result"
    }
   ],
   "source": [
    "from collections import Counter\n",
    "def largest(words):\n",
    "    words_count = Counter(\"\".join(sorted(word)) for word in words)\n",
    "    result = max(words_count.values(),default=0)\n",
    "    return result\n",
    "\n",
    "word_list = [\"listen\", \"silent\", \"enlist\", \"dog\", \"god\", \"good\"]\n",
    "final = largest(word_list)\n",
    "final"
   ]
  },
  {
   "cell_type": "code",
   "execution_count": 22,
   "metadata": {},
   "outputs": [
    {
     "data": {
      "text/plain": [
       "{1: 5, 5: 2, 3: 3, 4: 3, 2: 4}"
      ]
     },
     "execution_count": 22,
     "metadata": {},
     "output_type": "execute_result"
    }
   ],
   "source": [
    "freq = {}\n",
    "list1 = [1, 1, 1, 5, 5, 3, 1, 3, 3, 1,4, 4, 4, 2, 2, 2, 2]\n",
    "for i in list1:\n",
    "    if i in freq:\n",
    "        freq[i] += 1\n",
    "    else:\n",
    "        freq[i] = 1\n",
    "freq"
   ]
  },
  {
   "cell_type": "code",
   "execution_count": 23,
   "metadata": {},
   "outputs": [
    {
     "data": {
      "text/plain": [
       "{1: 5, 5: 2, 3: 3, 4: 3, 2: 4}"
      ]
     },
     "execution_count": 23,
     "metadata": {},
     "output_type": "execute_result"
    }
   ],
   "source": [
    "freq = {}\n",
    "list1 = [1, 1, 1, 5, 5, 3, 1, 3, 3, 1,4, 4, 4, 2, 2, 2, 2]\n",
    "for i in list1:\n",
    "    if i in freq:\n",
    "        freq[i] += 1\n",
    "    else:\n",
    "        freq[i] = 1\n",
    "freq"
   ]
  },
  {
   "cell_type": "code",
   "execution_count": 24,
   "metadata": {},
   "outputs": [
    {
     "data": {
      "text/plain": [
       "{'akash': 10,\n",
       " 'gaurav': 12,\n",
       " 'anand': 14,\n",
       " 'suraj': 20,\n",
       " 'akhil': 25,\n",
       " 'ashish': 30}"
      ]
     },
     "execution_count": 24,
     "metadata": {},
     "output_type": "execute_result"
    }
   ],
   "source": [
    "tups = [(\"akash\", 10), (\"gaurav\", 12), (\"anand\", 14), \n",
    "    (\"suraj\", 20), (\"akhil\", 25), (\"ashish\", 30)]\n",
    "result = dict(tups)\n",
    "result"
   ]
  },
  {
   "cell_type": "code",
   "execution_count": 25,
   "metadata": {},
   "outputs": [
    {
     "data": {
      "text/plain": [
       "[4, 9, 16, 25, 36]"
      ]
     },
     "execution_count": 25,
     "metadata": {},
     "output_type": "execute_result"
    }
   ],
   "source": [
    "numbers = [2, 3, 4, 5, 6]\n",
    "\n",
    "result = [(num ** 2) for num in numbers]\n",
    "result"
   ]
  },
  {
   "cell_type": "code",
   "execution_count": 26,
   "metadata": {},
   "outputs": [
    {
     "data": {
      "text/plain": [
       "[8, 27, 64, 125, 216]"
      ]
     },
     "execution_count": 26,
     "metadata": {},
     "output_type": "execute_result"
    }
   ],
   "source": [
    "numbers = [2, 3, 4, 5, 6]\n",
    "\n",
    "result = [(num ** 3) for num in numbers]\n",
    "result"
   ]
  },
  {
   "cell_type": "code",
   "execution_count": 27,
   "metadata": {},
   "outputs": [
    {
     "data": {
      "text/plain": [
       "{1: 1, 2: 8, 3: 27, 4: 64, 5: 125}"
      ]
     },
     "execution_count": 27,
     "metadata": {},
     "output_type": "execute_result"
    }
   ],
   "source": [
    "tuples_list = [(2, 8), (3, 27), (1, 1), (5, 125), (4, 64)]\n",
    "\n",
    "result = dict(sorted(tuples_list, key=lambda x : x[1]))\n",
    "result"
   ]
  },
  {
   "cell_type": "code",
   "execution_count": 28,
   "metadata": {},
   "outputs": [
    {
     "data": {
      "text/plain": [
       "{1: 1, 2: 8, 3: 27, 4: 64, 5: 125}"
      ]
     },
     "execution_count": 28,
     "metadata": {},
     "output_type": "execute_result"
    }
   ],
   "source": [
    "tuples_list = [(2, 8), (3, 27), (1, 1), (5, 125), (4, 64)]\n",
    "\n",
    "result = dict(sorted(tuples_list))\n",
    "result"
   ]
  },
  {
   "cell_type": "code",
   "execution_count": 4,
   "metadata": {},
   "outputs": [
    {
     "data": {
      "text/plain": [
       "[('Social sciences', 82), ('English', 88), ('Science', 90), ('Maths', 97)]"
      ]
     },
     "execution_count": 4,
     "metadata": {},
     "output_type": "execute_result"
    }
   ],
   "source": [
    "subject_marks = [(\"English\",88) , (\"Science\",90) , (\"Maths\",97) , (\"Social sciences\",82)]\n",
    "result = sorted(subject_marks,key=lambda x : x[1])\n",
    "result"
   ]
  },
  {
   "cell_type": "code",
   "execution_count": 5,
   "metadata": {},
   "outputs": [
    {
     "data": {
      "text/plain": [
       "[{'name': 'Nikhil', 'age': 19},\n",
       " {'name': 'Nandini', 'age': 20},\n",
       " {'name': 'Manjeet', 'age': 20}]"
      ]
     },
     "execution_count": 5,
     "metadata": {},
     "output_type": "execute_result"
    }
   ],
   "source": [
    "list1 = [{\"name\" : \"Nandini\" , \"age\" : 20} ,\n",
    "        {\"name\" : \"Manjeet\" , \"age\" : 20} ,\n",
    "        {\"name\" : \"Nikhil\" , \"age\" : 19}]\n",
    "result = sorted(list1,key=lambda x : x[\"age\"])\n",
    "result"
   ]
  },
  {
   "cell_type": "code",
   "execution_count": 6,
   "metadata": {},
   "outputs": [
    {
     "data": {
      "text/plain": [
       "[{'name': 'Manjeet', 'age': 20},\n",
       " {'name': 'Nandini', 'age': 20},\n",
       " {'name': 'Nikhil', 'age': 19}]"
      ]
     },
     "execution_count": 6,
     "metadata": {},
     "output_type": "execute_result"
    }
   ],
   "source": [
    "list1 = [{\"name\" : \"Nandini\" , \"age\" : 20} ,\n",
    "        {\"name\" : \"Manjeet\" , \"age\" : 20} ,\n",
    "        {\"name\" : \"Nikhil\" , \"age\" : 19}]\n",
    "result = sorted(list1,key=lambda x : x[\"name\"])\n",
    "result"
   ]
  },
  {
   "cell_type": "code",
   "execution_count": 7,
   "metadata": {},
   "outputs": [
    {
     "data": {
      "text/plain": [
       "[{'name': 'Nikhil', 'age': 19},\n",
       " {'name': 'Manjeet', 'age': 20},\n",
       " {'name': 'Nandini', 'age': 20}]"
      ]
     },
     "execution_count": 7,
     "metadata": {},
     "output_type": "execute_result"
    }
   ],
   "source": [
    "list1 = [{\"name\" : \"Nandini\" , \"age\" : 20} ,\n",
    "        {\"name\" : \"Manjeet\" , \"age\" : 20} ,\n",
    "        {\"name\" : \"Nikhil\" , \"age\" : 19}]\n",
    "result = sorted(list1,key=lambda x : (x[\"age\"],x[\"name\"]))\n",
    "result"
   ]
  },
  {
   "cell_type": "code",
   "execution_count": 8,
   "metadata": {},
   "outputs": [
    {
     "data": {
      "text/plain": [
       "[1, 4, 9, 16, 25, 36, 49, 64, 81, 100]"
      ]
     },
     "execution_count": 8,
     "metadata": {},
     "output_type": "execute_result"
    }
   ],
   "source": [
    "input_numbers = [1, 2, 3, 4, 5, 6, 7, 8, 9, 10]\n",
    "result = [(x**2) for x in input_numbers]\n",
    "result"
   ]
  },
  {
   "cell_type": "code",
   "execution_count": 9,
   "metadata": {},
   "outputs": [
    {
     "data": {
      "text/plain": [
       "[1, 4, 9, 16, 25, 36, 49, 64, 81, 100]"
      ]
     },
     "execution_count": 9,
     "metadata": {},
     "output_type": "execute_result"
    }
   ],
   "source": [
    "result = [(lambda x : x**2)(num) for num in input_numbers]\n",
    "result"
   ]
  },
  {
   "cell_type": "code",
   "execution_count": 10,
   "metadata": {},
   "outputs": [
    {
     "data": {
      "text/plain": [
       "[1, 8, 27, 64, 125, 216, 343, 512, 729, 1000]"
      ]
     },
     "execution_count": 10,
     "metadata": {},
     "output_type": "execute_result"
    }
   ],
   "source": [
    "input_numbers = [1, 2, 3, 4, 5, 6, 7, 8, 9, 10]\n",
    "result = [(lambda x : x**3)(num) for num in input_numbers]\n",
    "result"
   ]
  },
  {
   "cell_type": "code",
   "execution_count": 11,
   "metadata": {},
   "outputs": [
    {
     "name": "stdout",
     "output_type": "stream",
     "text": [
      "True\n"
     ]
    }
   ],
   "source": [
    "result = lambda x : True if x.startswith(\"P\") else False \n",
    "print(result(\"Python\"))"
   ]
  },
  {
   "cell_type": "code",
   "execution_count": 12,
   "metadata": {},
   "outputs": [
    {
     "name": "stdout",
     "output_type": "stream",
     "text": [
      "True\n"
     ]
    }
   ],
   "source": [
    "result = lambda x : True if x.startswith(\"M\") else False\n",
    "print(result(\"My\"))"
   ]
  },
  {
   "cell_type": "code",
   "execution_count": 13,
   "metadata": {},
   "outputs": [
    {
     "data": {
      "text/plain": [
       "True"
      ]
     },
     "execution_count": 13,
     "metadata": {},
     "output_type": "execute_result"
    }
   ],
   "source": [
    "result = (lambda string : string.isdigit())(string = \"1234\")\n",
    "result"
   ]
  },
  {
   "cell_type": "code",
   "execution_count": 14,
   "metadata": {},
   "outputs": [
    {
     "data": {
      "text/plain": [
       "True"
      ]
     },
     "execution_count": 14,
     "metadata": {},
     "output_type": "execute_result"
    }
   ],
   "source": [
    "result = (lambda string : string.isdecimal())(string = \"1234\")\n",
    "result"
   ]
  },
  {
   "cell_type": "code",
   "execution_count": 15,
   "metadata": {},
   "outputs": [
    {
     "data": {
      "text/plain": [
       "True"
      ]
     },
     "execution_count": 15,
     "metadata": {},
     "output_type": "execute_result"
    }
   ],
   "source": [
    "result = (lambda string : string.isnumeric())(string = \"1234\")\n",
    "result"
   ]
  },
  {
   "cell_type": "code",
   "execution_count": 16,
   "metadata": {},
   "outputs": [
    {
     "data": {
      "text/plain": [
       "['1234']"
      ]
     },
     "execution_count": 16,
     "metadata": {},
     "output_type": "execute_result"
    }
   ],
   "source": [
    "import re\n",
    "result = (lambda string : re.findall(r\"[0-9]{1,}\",string))(string = \"1234\")\n",
    "result"
   ]
  },
  {
   "cell_type": "code",
   "execution_count": 17,
   "metadata": {},
   "outputs": [
    {
     "name": "stdout",
     "output_type": "stream",
     "text": [
      "0 1 1 2 3 5 8 13 21 "
     ]
    }
   ],
   "source": [
    "num = 9 \n",
    "f1 = 0 \n",
    "f2 = 1\n",
    "print(f1,f2,end=\" \")\n",
    "for i in range(2,num):\n",
    "    f3 = f1 + f2\n",
    "    f1,f2 = f2,f3\n",
    "    print(f3,end=\" \")"
   ]
  },
  {
   "cell_type": "code",
   "execution_count": 18,
   "metadata": {},
   "outputs": [
    {
     "name": "stdout",
     "output_type": "stream",
     "text": [
      "0 1 1 2 3 5 8 13 21 "
     ]
    }
   ],
   "source": [
    "num = 9 \n",
    "f1 = 0 \n",
    "f2 = 1\n",
    "print(f1,f2,end=\" \")\n",
    "for i in range(2,num):\n",
    "    f3 = f1 + f2\n",
    "    f1,f2 = f2,f3\n",
    "    print(f3,end=\" \")\n"
   ]
  },
  {
   "cell_type": "code",
   "execution_count": 19,
   "metadata": {},
   "outputs": [
    {
     "name": "stdout",
     "output_type": "stream",
     "text": [
      "0 1 1 2 3 "
     ]
    }
   ],
   "source": [
    "num = 5 \n",
    "f1 = 0 \n",
    "f2 = 1\n",
    "print(f1,f2,end=\" \")\n",
    "for i in range(2,num):\n",
    "    f3 = f1 + f2\n",
    "    f1,f2 = f2,f3\n",
    "    print(f3,end=\" \")\n"
   ]
  },
  {
   "cell_type": "code",
   "execution_count": 20,
   "metadata": {},
   "outputs": [
    {
     "data": {
      "text/plain": [
       "[3, 4]"
      ]
     },
     "execution_count": 20,
     "metadata": {},
     "output_type": "execute_result"
    }
   ],
   "source": [
    "list1 = [1,2,3,4]\n",
    "list2 = [3,4,5,6]\n",
    "result = list(filter(lambda x : x in list1,list2))\n",
    "result"
   ]
  },
  {
   "cell_type": "code",
   "execution_count": 21,
   "metadata": {},
   "outputs": [
    {
     "data": {
      "text/plain": [
       "[3, 4]"
      ]
     },
     "execution_count": 21,
     "metadata": {},
     "output_type": "execute_result"
    }
   ],
   "source": [
    "list1 = [1,2,3,4]\n",
    "list2 = [3,4,5,6]\n",
    "result = list(filter(lambda x : x in list2,list1))\n",
    "result"
   ]
  },
  {
   "cell_type": "code",
   "execution_count": 24,
   "metadata": {},
   "outputs": [
    {
     "data": {
      "text/plain": [
       "[2, 5, 7, 8, 9, -1, -3, -10]"
      ]
     },
     "execution_count": 24,
     "metadata": {},
     "output_type": "execute_result"
    }
   ],
   "source": [
    "list1 = [-1,2,-3,5,7,8,9,-10]\n",
    "result = lambda list1 : [x for x in list1 if x >= 0] + [x for x in list1 if x < 0]\n",
    "result(list1)"
   ]
  },
  {
   "cell_type": "code",
   "execution_count": 25,
   "metadata": {},
   "outputs": [
    {
     "data": {
      "text/plain": [
       "[2, 5, 7, 8, 9, -1, -3, -10]"
      ]
     },
     "execution_count": 25,
     "metadata": {},
     "output_type": "execute_result"
    }
   ],
   "source": [
    "list1 = [-1,2,-3,5,7,8,9,-10]\n",
    "result = lambda list1 : [x for x in list1 if x >= 0] + [x for x in list1 if x < 0]\n",
    "result(list1)"
   ]
  },
  {
   "cell_type": "code",
   "execution_count": 26,
   "metadata": {},
   "outputs": [
    {
     "data": {
      "text/plain": [
       "5"
      ]
     },
     "execution_count": 26,
     "metadata": {},
     "output_type": "execute_result"
    }
   ],
   "source": [
    "array_nums = [1,2,3,5,7,8,9,10]\n",
    "odd = len(list(filter(lambda x : (x%2!=0),array_nums)))\n",
    "even = len(list(filter(lambda x : (x%2==0),array_nums)))\n",
    "odd"
   ]
  },
  {
   "cell_type": "code",
   "execution_count": 27,
   "metadata": {},
   "outputs": [
    {
     "data": {
      "text/plain": [
       "3"
      ]
     },
     "execution_count": 27,
     "metadata": {},
     "output_type": "execute_result"
    }
   ],
   "source": [
    "even"
   ]
  },
  {
   "cell_type": "code",
   "execution_count": 28,
   "metadata": {},
   "outputs": [
    {
     "data": {
      "text/plain": [
       "[5, 7, 9]"
      ]
     },
     "execution_count": 28,
     "metadata": {},
     "output_type": "execute_result"
    }
   ],
   "source": [
    "list1 = [1,2,3]\n",
    "list2 = [4,5,6]\n",
    "result = list(map(lambda x1,x2 : x1+x2,list1,list2))\n",
    "result"
   ]
  },
  {
   "cell_type": "code",
   "execution_count": 29,
   "metadata": {},
   "outputs": [
    {
     "data": {
      "text/plain": [
       "[5, 7, 9]"
      ]
     },
     "execution_count": 29,
     "metadata": {},
     "output_type": "execute_result"
    }
   ],
   "source": [
    "list1 = [1,2,3]\n",
    "list2 = [4,5,6]\n",
    "result = list(map(lambda x1,x2 : x1+x2,list1,list2))\n",
    "result"
   ]
  },
  {
   "cell_type": "code",
   "execution_count": 30,
   "metadata": {},
   "outputs": [
    {
     "data": {
      "text/plain": [
       "[13, 26, 38, 39, 57]"
      ]
     },
     "execution_count": 30,
     "metadata": {},
     "output_type": "execute_result"
    }
   ],
   "source": [
    "list1 = [13,26,38,39,57,15,17]\n",
    "result = list(filter(lambda x : (x%13==0 or x%19==0),list1))\n",
    "result"
   ]
  },
  {
   "cell_type": "code",
   "execution_count": 31,
   "metadata": {},
   "outputs": [
    {
     "data": {
      "text/plain": [
       "['php', 'aaa']"
      ]
     },
     "execution_count": 31,
     "metadata": {},
     "output_type": "execute_result"
    }
   ],
   "source": [
    "texts = [\"php\" , \"w3r\" , \"Python\" , \"abcd\" ,\"Java\" , \"aaa\"]\n",
    "result = list(filter(lambda x : (x == \"\".join(reversed(x))),texts))\n",
    "result"
   ]
  },
  {
   "cell_type": "code",
   "execution_count": 32,
   "metadata": {},
   "outputs": [
    {
     "data": {
      "text/plain": [
       "['php', 'aaa']"
      ]
     },
     "execution_count": 32,
     "metadata": {},
     "output_type": "execute_result"
    }
   ],
   "source": [
    "texts = [\"php\" , \"w3r\" , \"Python\" , \"abcd\" ,\"Java\" , \"aaa\"]\n",
    "result = list(filter(lambda x : (x == \"\".join(reversed(x))),texts))\n",
    "result"
   ]
  },
  {
   "cell_type": "code",
   "execution_count": 33,
   "metadata": {},
   "outputs": [
    {
     "data": {
      "text/plain": [
       "['bcda', 'cbda', 'adcb']"
      ]
     },
     "execution_count": 33,
     "metadata": {},
     "output_type": "execute_result"
    }
   ],
   "source": [
    "from collections import Counter\n",
    "texts = [\"bcda\",\"abce\",\"cbda\",\"cbea\",\"adcb\"]\n",
    "str1 = \"abcd\"\n",
    "result = list(filter(lambda x : (Counter(str1) == Counter(x)),texts))\n",
    "result"
   ]
  },
  {
   "cell_type": "code",
   "execution_count": 34,
   "metadata": {},
   "outputs": [
    {
     "data": {
      "text/plain": [
       "['bcda', 'cbda', 'adcb']"
      ]
     },
     "execution_count": 34,
     "metadata": {},
     "output_type": "execute_result"
    }
   ],
   "source": [
    "from collections import Counter\n",
    "texts = [\"bcda\",\"abce\",\"cbda\",\"cbea\",\"adcb\"]\n",
    "str1 = \"abcd\"\n",
    "result = list(filter(lambda x : (Counter(str1) == Counter(x)),texts))\n",
    "result"
   ]
  },
  {
   "cell_type": "code",
   "execution_count": 35,
   "metadata": {},
   "outputs": [
    {
     "data": {
      "text/plain": [
       "[10, 15, 20, 25]"
      ]
     },
     "execution_count": 35,
     "metadata": {},
     "output_type": "execute_result"
    }
   ],
   "source": [
    "list1 = [2,3,4,5]\n",
    "result = list(map(lambda x : x*5 , list1))\n",
    "result"
   ]
  },
  {
   "cell_type": "code",
   "execution_count": 37,
   "metadata": {},
   "outputs": [
    {
     "data": {
      "text/plain": [
       "2"
      ]
     },
     "execution_count": 37,
     "metadata": {},
     "output_type": "execute_result"
    }
   ],
   "source": [
    "list1 = [-1,-2,3,4]\n",
    "positive = list(map(lambda list1 : list1 > 0 ,list1))\n",
    "negative = list(map(lambda list1 : list1 < 0 ,list1))\n",
    "sum(positive)"
   ]
  },
  {
   "cell_type": "code",
   "execution_count": 38,
   "metadata": {},
   "outputs": [
    {
     "data": {
      "text/plain": [
       "2"
      ]
     },
     "execution_count": 38,
     "metadata": {},
     "output_type": "execute_result"
    }
   ],
   "source": [
    "sum(negative)"
   ]
  },
  {
   "cell_type": "code",
   "execution_count": 41,
   "metadata": {},
   "outputs": [
    {
     "data": {
      "text/plain": [
       "7"
      ]
     },
     "execution_count": 41,
     "metadata": {},
     "output_type": "execute_result"
    }
   ],
   "source": [
    "list1 = [-1,-2,3,4]\n",
    "positive = list(filter(lambda list1 : list1 > 0 ,list1))\n",
    "negative = list(filter(lambda list1 : list1 < 0 ,list1))\n",
    "sum(positive)"
   ]
  },
  {
   "cell_type": "code",
   "execution_count": 42,
   "metadata": {},
   "outputs": [
    {
     "data": {
      "text/plain": [
       "-3"
      ]
     },
     "execution_count": 42,
     "metadata": {},
     "output_type": "execute_result"
    }
   ],
   "source": [
    "sum(negative)"
   ]
  },
  {
   "cell_type": "code",
   "execution_count": 43,
   "metadata": {},
   "outputs": [
    {
     "data": {
      "text/plain": [
       "[13, 15, 17]"
      ]
     },
     "execution_count": 43,
     "metadata": {},
     "output_type": "execute_result"
    }
   ],
   "source": [
    "list1 = [[0],[1,3],[5,7],[9,11],[13,15,17]]\n",
    "result = max(list1,key=lambda x : len(x))\n",
    "result"
   ]
  },
  {
   "cell_type": "code",
   "execution_count": 44,
   "metadata": {},
   "outputs": [
    {
     "data": {
      "text/plain": [
       "[0]"
      ]
     },
     "execution_count": 44,
     "metadata": {},
     "output_type": "execute_result"
    }
   ],
   "source": [
    "list1 = [[0],[1,3],[5,7],[9,11],[13,15,17]]\n",
    "result = min(list1 , key=lambda x : len(x))\n",
    "result"
   ]
  },
  {
   "cell_type": "code",
   "execution_count": 45,
   "metadata": {},
   "outputs": [
    {
     "data": {
      "text/plain": [
       "[1, 3, 5, 7, 9, 10]"
      ]
     },
     "execution_count": 45,
     "metadata": {},
     "output_type": "execute_result"
    }
   ],
   "source": [
    "list1 = [1,2,3,4,5,6,7,8,9,10]\n",
    "list2 = [2,4,6,8]\n",
    "result = list(filter(lambda x : x not in list2,list1))\n",
    "result"
   ]
  },
  {
   "cell_type": "code",
   "execution_count": 46,
   "metadata": {},
   "outputs": [
    {
     "data": {
      "text/plain": [
       "[1, 3, 5, 7, 9, 10]"
      ]
     },
     "execution_count": 46,
     "metadata": {},
     "output_type": "execute_result"
    }
   ],
   "source": [
    "list1 = [1,2,3,4,5,6,7,8,9,10]\n",
    "list2 = [2,4,6,8]\n",
    "result = list(filter(lambda x : x not in list2,list1))\n",
    "result"
   ]
  },
  {
   "cell_type": "code",
   "execution_count": 49,
   "metadata": {},
   "outputs": [
    {
     "data": {
      "text/plain": [
       "((223, 33), (1416, 55), (2345, 34))"
      ]
     },
     "execution_count": 49,
     "metadata": {},
     "output_type": "execute_result"
    }
   ],
   "source": [
    "tuple_str = ((\"223\",\"ABCD\",\"33\") , (\"1416\",\"EFGH\",\"55\") , (\"2345\",\"WERT\",\"34\"))\n",
    "result = tuple(map(lambda  x : (int(x[0]),int(x[2])),tuple_str))\n",
    "result"
   ]
  },
  {
   "cell_type": "code",
   "execution_count": 50,
   "metadata": {},
   "outputs": [
    {
     "data": {
      "text/plain": [
       "((223, 33), (1416, 55), (2345, 34))"
      ]
     },
     "execution_count": 50,
     "metadata": {},
     "output_type": "execute_result"
    }
   ],
   "source": [
    "tuple_str = ((\"223\",\"ABCD\",\"33\") , (\"1416\",\"EFGH\",\"55\") , (\"2345\",\"WERT\",\"34\"))\n",
    "result = tuple(map(lambda x : (int(x[0]),int(x[2])),tuple_str))\n",
    "result"
   ]
  },
  {
   "cell_type": "code",
   "execution_count": 51,
   "metadata": {},
   "outputs": [
    {
     "data": {
      "text/plain": [
       "{3: 4, 4: 2, 5: 3, 8: 2, 0: 2, 1: 1, 2: 2}"
      ]
     },
     "execution_count": 51,
     "metadata": {},
     "output_type": "execute_result"
    }
   ],
   "source": [
    "nums = [3,4,5,8,0,3,8,5,0,3,1,5,2,3,4,2]\n",
    "result = dict(map(lambda x : (x , list(nums).count(x)),nums))\n",
    "result"
   ]
  },
  {
   "cell_type": "code",
   "execution_count": 52,
   "metadata": {},
   "outputs": [
    {
     "data": {
      "text/plain": [
       "{3: 4, 4: 2, 5: 3, 8: 2, 0: 2, 1: 1, 2: 2}"
      ]
     },
     "execution_count": 52,
     "metadata": {},
     "output_type": "execute_result"
    }
   ],
   "source": [
    "nums = [3,4,5,8,0,3,8,5,0,3,1,5,2,3,4,2]\n",
    "result = dict(map(lambda x : (x,list(nums).count(x)),nums))\n",
    "result"
   ]
  },
  {
   "cell_type": "code",
   "execution_count": 54,
   "metadata": {},
   "outputs": [
    {
     "data": {
      "text/plain": [
       "[12, 15, 18]"
      ]
     },
     "execution_count": 54,
     "metadata": {},
     "output_type": "execute_result"
    }
   ],
   "source": [
    "l1 = [1,2,3]\n",
    "l2 = [4,5,6]\n",
    "l3 = [7,8,9]\n",
    "result = list(map(lambda x1,x2,x3 : x1+x2+x3,l1,l2,l3))\n",
    "result"
   ]
  },
  {
   "cell_type": "code",
   "execution_count": 55,
   "metadata": {},
   "outputs": [
    {
     "data": {
      "text/plain": [
       "[12, 15, 18]"
      ]
     },
     "execution_count": 55,
     "metadata": {},
     "output_type": "execute_result"
    }
   ],
   "source": [
    "l1 = [1,2,3]\n",
    "l2 = [4,5,6]\n",
    "l3 = [7,8,9]\n",
    "result = list(map(lambda x1,x2,x3 : x1+x2+x3,l1,l2,l3))\n",
    "result"
   ]
  },
  {
   "cell_type": "code",
   "execution_count": 2,
   "metadata": {},
   "outputs": [
    {
     "data": {
      "text/plain": [
       "[['y', 'e', 'l', 'l', 'o', 'w'],\n",
       " ['b', 'l', 'u', 'e'],\n",
       " ['t', 'r', 'i', 'c', 'o', 'l', 'o', 'r']]"
      ]
     },
     "execution_count": 2,
     "metadata": {},
     "output_type": "execute_result"
    }
   ],
   "source": [
    "l1 = [\"yellow\",\"blue\",\"tricolor\"]\n",
    "result = list(map(list,l1))\n",
    "result"
   ]
  },
  {
   "cell_type": "code",
   "execution_count": 3,
   "metadata": {},
   "outputs": [
    {
     "data": {
      "text/plain": [
       "[['y', 'e', 'l', 'l', 'o', 'w'],\n",
       " ['b', 'l', 'u', 'e'],\n",
       " ['t', 'r', 'i', 'c', 'o', 'l', 'o', 'r']]"
      ]
     },
     "execution_count": 3,
     "metadata": {},
     "output_type": "execute_result"
    }
   ],
   "source": [
    "l1 = [\"yellow\",\"blue\",\"tricolor\"]\n",
    "result = list(map(list,l1))\n",
    "result"
   ]
  },
  {
   "cell_type": "code",
   "execution_count": 4,
   "metadata": {},
   "outputs": [
    {
     "data": {
      "text/plain": [
       "[144, 225, 324]"
      ]
     },
     "execution_count": 4,
     "metadata": {},
     "output_type": "execute_result"
    }
   ],
   "source": [
    "l1 = [12,15,18]\n",
    "result = list(map(lambda x : x**2 , l1))\n",
    "result"
   ]
  },
  {
   "cell_type": "code",
   "execution_count": 5,
   "metadata": {},
   "outputs": [
    {
     "data": {
      "text/plain": [
       "[6, 6, 6, 6, 6]"
      ]
     },
     "execution_count": 5,
     "metadata": {},
     "output_type": "execute_result"
    }
   ],
   "source": [
    "list1 = [1, 2, 3, 4, 5]\n",
    "list2 = [5, 4, 3, 2, 1]\n",
    "result = list(map(lambda x,y : x+y , list1, list2))\n",
    "result"
   ]
  },
  {
   "cell_type": "code",
   "execution_count": 6,
   "metadata": {},
   "outputs": [
    {
     "data": {
      "text/plain": [
       "[-4, -2, 0, 2, 4]"
      ]
     },
     "execution_count": 6,
     "metadata": {},
     "output_type": "execute_result"
    }
   ],
   "source": [
    "result = list(map(lambda x,y : x-y,list1,list2))\n",
    "result"
   ]
  },
  {
   "cell_type": "code",
   "execution_count": 7,
   "metadata": {},
   "outputs": [
    {
     "data": {
      "text/plain": [
       "['1', '2', '3', '4', '5']"
      ]
     },
     "execution_count": 7,
     "metadata": {},
     "output_type": "execute_result"
    }
   ],
   "source": [
    "int_list = [1, 2, 3, 4, 5]\n",
    "result = list(map(lambda x : str(x),int_list))\n",
    "result"
   ]
  },
  {
   "cell_type": "code",
   "execution_count": 8,
   "metadata": {},
   "outputs": [
    {
     "data": {
      "text/plain": [
       "['6', '7', '8', '9', '10']"
      ]
     },
     "execution_count": 8,
     "metadata": {},
     "output_type": "execute_result"
    }
   ],
   "source": [
    "int_tuple = (6, 7, 8, 9, 10)\n",
    "result = list(map(lambda x : str(x),int_tuple))\n",
    "result"
   ]
  },
  {
   "cell_type": "code",
   "execution_count": 9,
   "metadata": {},
   "outputs": [
    {
     "data": {
      "text/plain": [
       "15"
      ]
     },
     "execution_count": 9,
     "metadata": {},
     "output_type": "execute_result"
    }
   ],
   "source": [
    "num_array = [1, 2, 3, 4, 5]\n",
    "result = sum(map(lambda x : x,num_array))\n",
    "result"
   ]
  },
  {
   "cell_type": "code",
   "execution_count": 10,
   "metadata": {},
   "outputs": [
    {
     "data": {
      "text/plain": [
       "2"
      ]
     },
     "execution_count": 10,
     "metadata": {},
     "output_type": "execute_result"
    }
   ],
   "source": [
    "list1 = [1, 2, 3, 4, 5]\n",
    "list2 = [1, 2, 4, 8, 9]\n",
    "\n",
    "result = sum(map(lambda x,y : x == y,list1,list2))\n",
    "result"
   ]
  },
  {
   "cell_type": "code",
   "execution_count": 11,
   "metadata": {},
   "outputs": [
    {
     "data": {
      "text/plain": [
       "2"
      ]
     },
     "execution_count": 11,
     "metadata": {},
     "output_type": "execute_result"
    }
   ],
   "source": [
    "list1 = [1, 2, 3, 4, 5]\n",
    "list2 = [1, 2, 4, 8, 9]\n",
    "result = sum(map(lambda x,y : x==y,list1,list2))\n",
    "result"
   ]
  },
  {
   "cell_type": "code",
   "execution_count": 12,
   "metadata": {},
   "outputs": [
    {
     "data": {
      "text/plain": [
       "[['p', 'y', 't', 'h', 'o', 'n'],\n",
       " ['m', 'a', 'c', 'h', 'i', 'n', 'e'],\n",
       " ['l', 'e', 'a', 'r', 'n', 'i', 'n', 'g']]"
      ]
     },
     "execution_count": 12,
     "metadata": {},
     "output_type": "execute_result"
    }
   ],
   "source": [
    "str1 = [\"python\",\"machine\",\"learning\"]\n",
    "result = list(map(list,str1))\n",
    "result"
   ]
  },
  {
   "cell_type": "code",
   "execution_count": 13,
   "metadata": {},
   "outputs": [
    {
     "data": {
      "text/plain": [
       "[['p', 'y', 't', 'h', 'o', 'n'],\n",
       " ['m', 'a', 'c', 'h', 'i', 'n', 'e'],\n",
       " ['l', 'e', 'a', 'r', 'n', 'i', 'n', 'g']]"
      ]
     },
     "execution_count": 13,
     "metadata": {},
     "output_type": "execute_result"
    }
   ],
   "source": [
    "str1 = [\"python\",\"machine\",\"learning\"]\n",
    "result = list(map(list,str1))\n",
    "result"
   ]
  },
  {
   "cell_type": "code",
   "execution_count": 14,
   "metadata": {},
   "outputs": [
    {
     "data": {
      "text/plain": [
       "['python machine', 'learning data science']"
      ]
     },
     "execution_count": 14,
     "metadata": {},
     "output_type": "execute_result"
    }
   ],
   "source": [
    "list_tup = [(\"python\",\"machine\"),(\"learning\",\"data science\")]\n",
    "result = list(map(\" \".join,list_tup))\n",
    "result"
   ]
  },
  {
   "cell_type": "code",
   "execution_count": 15,
   "metadata": {},
   "outputs": [
    {
     "data": {
      "text/plain": [
       "['python machine', 'learning data science']"
      ]
     },
     "execution_count": 15,
     "metadata": {},
     "output_type": "execute_result"
    }
   ],
   "source": [
    "list_tup = [(\"python\",\"machine\"),(\"learning\",\"data science\")]\n",
    "result = list(map(\" \".join,list_tup))\n",
    "result"
   ]
  },
  {
   "cell_type": "code",
   "execution_count": 16,
   "metadata": {},
   "outputs": [
    {
     "data": {
      "text/plain": [
       "[4, 5, 6]"
      ]
     },
     "execution_count": 16,
     "metadata": {},
     "output_type": "execute_result"
    }
   ],
   "source": [
    "l1 = [1,2,3]\n",
    "l2 = [1,2,4,5,6]\n",
    "result = list(filter(lambda x : x not in l1,l2))\n",
    "result"
   ]
  },
  {
   "cell_type": "code",
   "execution_count": 19,
   "metadata": {},
   "outputs": [
    {
     "data": {
      "text/plain": [
       "[3]"
      ]
     },
     "execution_count": 19,
     "metadata": {},
     "output_type": "execute_result"
    }
   ],
   "source": [
    "l1 = [1,2,3]\n",
    "l2 = [1,2,4,5,6]\n",
    "result = list(filter(lambda x : x not in l2,l1))\n",
    "result"
   ]
  },
  {
   "cell_type": "code",
   "execution_count": 23,
   "metadata": {},
   "outputs": [
    {
     "ename": "AttributeError",
     "evalue": "module 'nltk' has no attribute 'data'",
     "output_type": "error",
     "traceback": [
      "\u001b[1;31m---------------------------------------------------------------------------\u001b[0m",
      "\u001b[1;31mAttributeError\u001b[0m                            Traceback (most recent call last)",
      "Cell \u001b[1;32mIn[23], line 3\u001b[0m\n\u001b[0;32m      1\u001b[0m \u001b[38;5;28;01mfrom\u001b[39;00m \u001b[38;5;21;01mnltk\u001b[39;00m\u001b[38;5;21;01m.\u001b[39;00m\u001b[38;5;21;01mcorpus\u001b[39;00m \u001b[38;5;28;01mimport\u001b[39;00m stopwords\n\u001b[0;32m      2\u001b[0m string \u001b[38;5;241m=\u001b[39m \u001b[38;5;124m\"\u001b[39m\u001b[38;5;124mHi i am abhishek\u001b[39m\u001b[38;5;124m\"\u001b[39m\n\u001b[1;32m----> 3\u001b[0m stopword_list \u001b[38;5;241m=\u001b[39m \u001b[43mstopwords\u001b[49m\u001b[38;5;241;43m.\u001b[39;49m\u001b[43mwords\u001b[49m(\u001b[38;5;124m\"\u001b[39m\u001b[38;5;124menglish\u001b[39m\u001b[38;5;124m\"\u001b[39m)\n\u001b[0;32m      4\u001b[0m result \u001b[38;5;241m=\u001b[39m \u001b[38;5;28mfilter\u001b[39m(\u001b[38;5;28;01mlambda\u001b[39;00m x : x\u001b[38;5;241m.\u001b[39mlower() \u001b[38;5;129;01mnot\u001b[39;00m \u001b[38;5;129;01min\u001b[39;00m stopword_list,string)\n\u001b[0;32m      5\u001b[0m final \u001b[38;5;241m=\u001b[39m \u001b[38;5;124m\"\u001b[39m\u001b[38;5;124m \u001b[39m\u001b[38;5;124m\"\u001b[39m\u001b[38;5;241m.\u001b[39mjoin(result)\n",
      "File \u001b[1;32mc:\\Users\\abhis\\AppData\\Local\\Programs\\Python\\Python311\\Lib\\site-packages\\nltk\\corpus\\util.py:121\u001b[0m, in \u001b[0;36mLazyCorpusLoader.__getattr__\u001b[1;34m(self, attr)\u001b[0m\n\u001b[0;32m    118\u001b[0m \u001b[38;5;28;01mif\u001b[39;00m attr \u001b[38;5;241m==\u001b[39m \u001b[38;5;124m\"\u001b[39m\u001b[38;5;124m__bases__\u001b[39m\u001b[38;5;124m\"\u001b[39m:\n\u001b[0;32m    119\u001b[0m     \u001b[38;5;28;01mraise\u001b[39;00m \u001b[38;5;167;01mAttributeError\u001b[39;00m(\u001b[38;5;124m\"\u001b[39m\u001b[38;5;124mLazyCorpusLoader object has no attribute \u001b[39m\u001b[38;5;124m'\u001b[39m\u001b[38;5;124m__bases__\u001b[39m\u001b[38;5;124m'\u001b[39m\u001b[38;5;124m\"\u001b[39m)\n\u001b[1;32m--> 121\u001b[0m \u001b[38;5;28;43mself\u001b[39;49m\u001b[38;5;241;43m.\u001b[39;49m\u001b[43m__load\u001b[49m\u001b[43m(\u001b[49m\u001b[43m)\u001b[49m\n\u001b[0;32m    122\u001b[0m \u001b[38;5;66;03m# This looks circular, but its not, since __load() changes our\u001b[39;00m\n\u001b[0;32m    123\u001b[0m \u001b[38;5;66;03m# __class__ to something new:\u001b[39;00m\n\u001b[0;32m    124\u001b[0m \u001b[38;5;28;01mreturn\u001b[39;00m \u001b[38;5;28mgetattr\u001b[39m(\u001b[38;5;28mself\u001b[39m, attr)\n",
      "File \u001b[1;32mc:\\Users\\abhis\\AppData\\Local\\Programs\\Python\\Python311\\Lib\\site-packages\\nltk\\corpus\\util.py:81\u001b[0m, in \u001b[0;36mLazyCorpusLoader.__load\u001b[1;34m(self)\u001b[0m\n\u001b[0;32m     79\u001b[0m \u001b[38;5;28;01melse\u001b[39;00m:\n\u001b[0;32m     80\u001b[0m     \u001b[38;5;28;01mtry\u001b[39;00m:\n\u001b[1;32m---> 81\u001b[0m         root \u001b[38;5;241m=\u001b[39m \u001b[43mnltk\u001b[49m\u001b[38;5;241;43m.\u001b[39;49m\u001b[43mdata\u001b[49m\u001b[38;5;241m.\u001b[39mfind(\u001b[38;5;124mf\u001b[39m\u001b[38;5;124m\"\u001b[39m\u001b[38;5;132;01m{\u001b[39;00m\u001b[38;5;28mself\u001b[39m\u001b[38;5;241m.\u001b[39msubdir\u001b[38;5;132;01m}\u001b[39;00m\u001b[38;5;124m/\u001b[39m\u001b[38;5;132;01m{\u001b[39;00m\u001b[38;5;28mself\u001b[39m\u001b[38;5;241m.\u001b[39m__name\u001b[38;5;132;01m}\u001b[39;00m\u001b[38;5;124m\"\u001b[39m)\n\u001b[0;32m     82\u001b[0m     \u001b[38;5;28;01mexcept\u001b[39;00m \u001b[38;5;167;01mLookupError\u001b[39;00m \u001b[38;5;28;01mas\u001b[39;00m e:\n\u001b[0;32m     83\u001b[0m         \u001b[38;5;28;01mtry\u001b[39;00m:\n",
      "\u001b[1;31mAttributeError\u001b[0m: module 'nltk' has no attribute 'data'"
     ]
    }
   ],
   "source": [
    "from nltk.corpus import stopwords\n",
    "string = \"Hi i am abhishek\"\n",
    "stopword_list = stopwords.words(\"english\")\n",
    "result = filter(lambda x : x.lower() not in stopword_list,string)\n",
    "final = \" \".join(result)\n",
    "final"
   ]
  },
  {
   "cell_type": "code",
   "execution_count": 24,
   "metadata": {},
   "outputs": [
    {
     "data": {
      "text/plain": [
       "[1, 2]"
      ]
     },
     "execution_count": 24,
     "metadata": {},
     "output_type": "execute_result"
    }
   ],
   "source": [
    "l1 = [1,2,3]\n",
    "l2 = [1,2,4,5,6]\n",
    "result = list(filter(lambda x : x in l1,l2))\n",
    "result"
   ]
  },
  {
   "cell_type": "code",
   "execution_count": 25,
   "metadata": {},
   "outputs": [
    {
     "data": {
      "text/plain": [
       "[1, 3]"
      ]
     },
     "execution_count": 25,
     "metadata": {},
     "output_type": "execute_result"
    }
   ],
   "source": [
    "l1 = [1,2,3]\n",
    "result = list(filter(lambda x : (x%2!=0),l1))\n",
    "result"
   ]
  },
  {
   "cell_type": "code",
   "execution_count": 26,
   "metadata": {},
   "outputs": [
    {
     "data": {
      "text/plain": [
       "[2]"
      ]
     },
     "execution_count": 26,
     "metadata": {},
     "output_type": "execute_result"
    }
   ],
   "source": [
    "l1 = [1,2,3]\n",
    "result = list(filter(lambda x : (x%2==0),l1))\n",
    "result"
   ]
  },
  {
   "cell_type": "code",
   "execution_count": null,
   "metadata": {},
   "outputs": [],
   "source": []
  }
 ],
 "metadata": {
  "kernelspec": {
   "display_name": "Python 3",
   "language": "python",
   "name": "python3"
  },
  "language_info": {
   "codemirror_mode": {
    "name": "ipython",
    "version": 3
   },
   "file_extension": ".py",
   "mimetype": "text/x-python",
   "name": "python",
   "nbconvert_exporter": "python",
   "pygments_lexer": "ipython3",
   "version": "3.11.3"
  }
 },
 "nbformat": 4,
 "nbformat_minor": 2
}
